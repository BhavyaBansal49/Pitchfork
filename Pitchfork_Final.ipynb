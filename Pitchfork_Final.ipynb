{
  "nbformat": 4,
  "nbformat_minor": 0,
  "metadata": {
    "colab": {
      "name": "Pitchfork Final.ipynb",
      "provenance": [],
      "collapsed_sections": [],
      "authorship_tag": "ABX9TyOzu4ERyCQonB/b6BzIQA97",
      "include_colab_link": true
    },
    "kernelspec": {
      "name": "python3",
      "display_name": "Python 3"
    },
    "language_info": {
      "name": "python"
    }
  },
  "cells": [
    {
      "cell_type": "markdown",
      "metadata": {
        "id": "view-in-github",
        "colab_type": "text"
      },
      "source": [
        "<a href=\"https://colab.research.google.com/github/BhavyaBansal49/Pitchfork/blob/main/Pitchfork_Final.ipynb\" target=\"_parent\"><img src=\"https://colab.research.google.com/assets/colab-badge.svg\" alt=\"Open In Colab\"/></a>"
      ]
    },
    {
      "cell_type": "markdown",
      "metadata": {
        "id": "xqImBP4iwxTg"
      },
      "source": [
        "# Kaggle Pitchfork Data"
      ]
    },
    {
      "cell_type": "markdown",
      "metadata": {
        "id": "sc8ZG85Nw2mt"
      },
      "source": [
        "## Setting up the environment"
      ]
    },
    {
      "cell_type": "code",
      "metadata": {
        "id": "AGgUy4GRw90m"
      },
      "source": [
        "# Import Libraries\n",
        "import pandas as pd\n",
        "import numpy as np\n",
        "import matplotlib.pyplot as plt"
      ],
      "execution_count": 85,
      "outputs": []
    },
    {
      "cell_type": "code",
      "metadata": {
        "colab": {
          "base_uri": "https://localhost:8080/"
        },
        "id": "hitD8rMGxElA",
        "outputId": "0ce51b1f-fa27-44fd-e756-3072206d33b7"
      },
      "source": [
        "# Mounting drive\n",
        "from google.colab import drive\n",
        "drive.mount('/content/drive')"
      ],
      "execution_count": 86,
      "outputs": [
        {
          "output_type": "stream",
          "name": "stdout",
          "text": [
            "Drive already mounted at /content/drive; to attempt to forcibly remount, call drive.mount(\"/content/drive\", force_remount=True).\n"
          ]
        }
      ]
    },
    {
      "cell_type": "code",
      "metadata": {
        "id": "_Up0jKjzxL6B"
      },
      "source": [
        "# Reading sqlite database\n",
        "\n",
        "from sqlalchemy import create_engine\n",
        "my_conn= create_engine('sqlite:////content/drive/MyDrive/Project/Kaggle Pitchfork/database.sqlite')"
      ],
      "execution_count": 87,
      "outputs": []
    },
    {
      "cell_type": "code",
      "metadata": {
        "colab": {
          "base_uri": "https://localhost:8080/"
        },
        "id": "L61t-mL4xkB4",
        "outputId": "ae788602-a2e4-40bb-c697-9559854aa8a9"
      },
      "source": [
        "# Check table names\n",
        "r_set= my_conn.execute('''SELECT name FROM sqlite_master\n",
        "  where type = 'table' ''')\n",
        "\n",
        "for row in r_set:\n",
        "  print(row)"
      ],
      "execution_count": 88,
      "outputs": [
        {
          "output_type": "stream",
          "name": "stdout",
          "text": [
            "('reviews',)\n",
            "('artists',)\n",
            "('genres',)\n",
            "('labels',)\n",
            "('years',)\n",
            "('content',)\n"
          ]
        }
      ]
    },
    {
      "cell_type": "code",
      "metadata": {
        "id": "Dl88ZcXvx1Ku"
      },
      "source": [
        "# Reading all tables\n",
        "# Creating dataframes for each table\n",
        "review_df = pd.read_sql_query(\"SELECT * from reviews\", my_conn)\n",
        "artist_df = pd.read_sql_query(\"SELECT * from artists\", my_conn) \n",
        "genres_df = pd.read_sql_query(\"SELECT * from genres\", my_conn)\n",
        "labels_df = pd.read_sql_query(\"SELECT * from labels\", my_conn)\n",
        "years_df = pd.read_sql_query(\"SELECT * from years\", my_conn)\n",
        "content_df = pd.read_sql_query(\"SELECT * from content\", my_conn)"
      ],
      "execution_count": 89,
      "outputs": []
    },
    {
      "cell_type": "markdown",
      "metadata": {
        "id": "5CaTa7EFx-xT"
      },
      "source": [
        "## SQL\n",
        "\n",
        "Merge the database tables into a dataframe containing all of the relevant metadata."
      ]
    },
    {
      "cell_type": "code",
      "metadata": {
        "id": "arZHAoXryIw1"
      },
      "source": [
        "# there are duplicate review IDS in all of the tables\n",
        "# as the first step, we will be deleting all the duplicates\n",
        "# the one that occurs first will be kept in the database\n",
        "\n",
        "# removing duplicates\n",
        "review= review_df.drop_duplicates(subset=['reviewid']).reset_index(drop= True)\n",
        "artist= artist_df.drop_duplicates(subset=['reviewid']).reset_index(drop= True)\n",
        "genre= genres_df.drop_duplicates(subset=['reviewid']).reset_index(drop= True)\n",
        "label= labels_df.drop_duplicates(subset=['reviewid']).reset_index(drop= True)\n",
        "year= years_df.drop_duplicates(subset=['reviewid']).reset_index(drop= True)\n",
        "content= content_df.drop_duplicates(subset=['reviewid']).reset_index(drop= True)"
      ],
      "execution_count": 90,
      "outputs": []
    },
    {
      "cell_type": "code",
      "metadata": {
        "colab": {
          "base_uri": "https://localhost:8080/"
        },
        "id": "HVw3_RxozGdJ",
        "outputId": "1ebc2deb-212a-4f71-bb9f-9edde881e3e6"
      },
      "source": [
        "# Will use a left join\n",
        "df = pd.merge(pd.merge(pd.merge(pd.merge(pd.merge(review, genre, on= ['reviewid'], how= 'left'), \n",
        "              artist, on= ['reviewid'], how= 'left'),\n",
        "              label, on= ['reviewid'], how= 'left'),\n",
        "              year, on= ['reviewid'], how= 'left'),\n",
        "              content, on= ['reviewid'], how= 'left')\n",
        "\n",
        "# Checking the info for the df\n",
        "df.info()\n"
      ],
      "execution_count": 91,
      "outputs": [
        {
          "output_type": "stream",
          "name": "stdout",
          "text": [
            "<class 'pandas.core.frame.DataFrame'>\n",
            "Int64Index: 18389 entries, 0 to 18388\n",
            "Data columns (total 18 columns):\n",
            " #   Column          Non-Null Count  Dtype  \n",
            "---  ------          --------------  -----  \n",
            " 0   reviewid        18389 non-null  int64  \n",
            " 1   title           18389 non-null  object \n",
            " 2   artist_x        18389 non-null  object \n",
            " 3   url             18389 non-null  object \n",
            " 4   score           18389 non-null  float64\n",
            " 5   best_new_music  18389 non-null  int64  \n",
            " 6   author          18389 non-null  object \n",
            " 7   author_type     14485 non-null  object \n",
            " 8   pub_date        18389 non-null  object \n",
            " 9   pub_weekday     18389 non-null  int64  \n",
            " 10  pub_day         18389 non-null  int64  \n",
            " 11  pub_month       18389 non-null  int64  \n",
            " 12  pub_year        18389 non-null  int64  \n",
            " 13  genre           16024 non-null  object \n",
            " 14  artist_y        18389 non-null  object \n",
            " 15  label           18351 non-null  object \n",
            " 16  year            17983 non-null  float64\n",
            " 17  content         18389 non-null  object \n",
            "dtypes: float64(2), int64(6), object(10)\n",
            "memory usage: 2.7+ MB\n"
          ]
        }
      ]
    },
    {
      "cell_type": "markdown",
      "metadata": {
        "id": "M8RLrwjN59-D"
      },
      "source": [
        "This df is our metadata, based on which we will be doing the further exercises"
      ]
    },
    {
      "cell_type": "markdown",
      "metadata": {
        "id": "ewlLHZx66ElB"
      },
      "source": [
        "## Cursory Data Analysis"
      ]
    },
    {
      "cell_type": "markdown",
      "metadata": {
        "id": "DQwhL3iv6Mpm"
      },
      "source": [
        "##### a) Compute the number of albums belonging to each genre. You should notice that some albums have multiple genres listed (e.g. Folk/Country,Pop/R&B,Rock) separated by commas. Consider albums with multiple genres as belonging to each of those genres (i.e. an album with Rap,Rock as it’s genres will be counted as one Rap album and one Rock album)."
      ]
    },
    {
      "cell_type": "code",
      "metadata": {
        "id": "k6NVus1u6PXt"
      },
      "source": [
        "# split the values\n",
        "new= genre['genre'].str.split('/')\n",
        "\n",
        "# make it a series\n",
        "new_series= new.apply(pd.Series, 1)\n",
        "\n",
        "# stack the values\n",
        "new_series_clean= new_series.stack()\n",
        "\n",
        "# get rid of stack\n",
        "# drop the level to line up with dataframe\n",
        "new_series_clean.index= new_series_clean.index.droplevel(-1)\n",
        "\n",
        "# make the series a dataframe\n",
        "newdf= pd.DataFrame(new_series_clean)\n",
        "\n",
        "# delete the genre column\n",
        "del genre['genre']\n",
        "\n",
        "# join the genre to newdf\n",
        "genre= genre.join(newdf)"
      ],
      "execution_count": 92,
      "outputs": []
    },
    {
      "cell_type": "code",
      "metadata": {
        "colab": {
          "base_uri": "https://localhost:8080/"
        },
        "id": "H-Vt2py_Gzxo",
        "outputId": "688afab4-1ca9-4583-db28-270a62cd529b"
      },
      "source": [
        "# reset index\n",
        "genre[0].value_counts()"
      ],
      "execution_count": 93,
      "outputs": [
        {
          "output_type": "execute_result",
          "data": {
            "text/plain": [
              "rock            9435\n",
              "electronic      1994\n",
              "rap             1488\n",
              "r&b             1087\n",
              "pop             1087\n",
              "country          574\n",
              "folk             574\n",
              "experimental     565\n",
              "metal            357\n",
              "jazz             341\n",
              "global           183\n",
              "Name: 0, dtype: int64"
            ]
          },
          "metadata": {},
          "execution_count": 93
        }
      ]
    },
    {
      "cell_type": "markdown",
      "metadata": {
        "id": "VYj1JPmmLpJQ"
      },
      "source": [
        "##### b) Compute the number of albums released each year."
      ]
    },
    {
      "cell_type": "code",
      "metadata": {
        "colab": {
          "base_uri": "https://localhost:8080/"
        },
        "id": "zzC9_FFaL2DO",
        "outputId": "a395016f-1c1a-4e94-eda7-0ff417b114bc"
      },
      "source": [
        "# subset the two columns, and remove duplicates\n",
        "temp= df[['title', 'year']]\n",
        "temp= temp.drop_duplicates().reset_index(drop= True)\n",
        "\n",
        "# calculate value counts on year\n",
        "temp['year'].value_counts()"
      ],
      "execution_count": 94,
      "outputs": [
        {
          "output_type": "execute_result",
          "data": {
            "text/plain": [
              "2007.0    1198\n",
              "2005.0    1158\n",
              "2012.0    1145\n",
              "2013.0    1144\n",
              "2006.0    1134\n",
              "2008.0    1130\n",
              "2010.0    1129\n",
              "2016.0    1124\n",
              "2011.0    1122\n",
              "2009.0    1108\n",
              "2015.0    1101\n",
              "2014.0    1058\n",
              "2004.0     983\n",
              "2003.0     979\n",
              "2002.0     921\n",
              "2001.0     556\n",
              "2000.0     214\n",
              "1999.0     116\n",
              "1996.0      33\n",
              "1971.0      27\n",
              "1994.0      25\n",
              "1980.0      25\n",
              "1979.0      24\n",
              "1977.0      24\n",
              "1981.0      24\n",
              "1992.0      23\n",
              "1998.0      22\n",
              "1997.0      21\n",
              "1990.0      21\n",
              "1993.0      19\n",
              "1970.0      18\n",
              "1985.0      18\n",
              "1995.0      17\n",
              "1991.0      17\n",
              "1968.0      16\n",
              "1982.0      16\n",
              "1983.0      15\n",
              "1972.0      15\n",
              "1969.0      14\n",
              "1988.0      14\n",
              "1989.0      13\n",
              "1975.0      13\n",
              "1973.0      13\n",
              "1978.0      11\n",
              "1987.0      11\n",
              "1974.0      11\n",
              "1984.0      10\n",
              "1966.0       8\n",
              "1976.0       8\n",
              "1967.0       7\n",
              "1965.0       7\n",
              "1986.0       6\n",
              "1964.0       5\n",
              "1963.0       3\n",
              "1962.0       3\n",
              "1960.0       3\n",
              "1959.0       1\n",
              "2017.0       1\n",
              "Name: year, dtype: int64"
            ]
          },
          "metadata": {},
          "execution_count": 94
        }
      ]
    },
    {
      "cell_type": "markdown",
      "metadata": {
        "id": "mz9Zk-uYNTKF"
      },
      "source": [
        "##### c) Compute the ten artists with the highest number of albums reviewed in the dataset."
      ]
    },
    {
      "cell_type": "code",
      "metadata": {
        "colab": {
          "base_uri": "https://localhost:8080/",
          "height": 361
        },
        "id": "cfUUD_Y9NcGe",
        "outputId": "8f649c35-fbdd-4dbb-8ba8-fdb587218d61"
      },
      "source": [
        "# subset the two columns\n",
        "temp= df[['artist_x', 'reviewid']]\n",
        "temp= temp.drop_duplicates().reset_index(drop= True)\n",
        "\n",
        "# create a new dataframe with value counts\n",
        "count= pd.DataFrame(temp['artist_x'].value_counts())\n",
        "\n",
        "# sort based on value count column\n",
        "count.sort_values(by='artist_x', ascending= False, inplace= True)\n",
        "\n",
        "# display top 10 artists and their value counts\n",
        "count.head(10)"
      ],
      "execution_count": 95,
      "outputs": [
        {
          "output_type": "execute_result",
          "data": {
            "text/html": [
              "<div>\n",
              "<style scoped>\n",
              "    .dataframe tbody tr th:only-of-type {\n",
              "        vertical-align: middle;\n",
              "    }\n",
              "\n",
              "    .dataframe tbody tr th {\n",
              "        vertical-align: top;\n",
              "    }\n",
              "\n",
              "    .dataframe thead th {\n",
              "        text-align: right;\n",
              "    }\n",
              "</style>\n",
              "<table border=\"1\" class=\"dataframe\">\n",
              "  <thead>\n",
              "    <tr style=\"text-align: right;\">\n",
              "      <th></th>\n",
              "      <th>artist_x</th>\n",
              "    </tr>\n",
              "  </thead>\n",
              "  <tbody>\n",
              "    <tr>\n",
              "      <th>various artists</th>\n",
              "      <td>687</td>\n",
              "    </tr>\n",
              "    <tr>\n",
              "      <th>guided by voices</th>\n",
              "      <td>23</td>\n",
              "    </tr>\n",
              "    <tr>\n",
              "      <th>david bowie</th>\n",
              "      <td>21</td>\n",
              "    </tr>\n",
              "    <tr>\n",
              "      <th>the beatles</th>\n",
              "      <td>21</td>\n",
              "    </tr>\n",
              "    <tr>\n",
              "      <th>of montreal</th>\n",
              "      <td>20</td>\n",
              "    </tr>\n",
              "    <tr>\n",
              "      <th>mogwai</th>\n",
              "      <td>20</td>\n",
              "    </tr>\n",
              "    <tr>\n",
              "      <th>robert pollard</th>\n",
              "      <td>19</td>\n",
              "    </tr>\n",
              "    <tr>\n",
              "      <th>neil young</th>\n",
              "      <td>19</td>\n",
              "    </tr>\n",
              "    <tr>\n",
              "      <th>the fall</th>\n",
              "      <td>18</td>\n",
              "    </tr>\n",
              "    <tr>\n",
              "      <th>xiu xiu</th>\n",
              "      <td>17</td>\n",
              "    </tr>\n",
              "  </tbody>\n",
              "</table>\n",
              "</div>"
            ],
            "text/plain": [
              "                  artist_x\n",
              "various artists        687\n",
              "guided by voices        23\n",
              "david bowie             21\n",
              "the beatles             21\n",
              "of montreal             20\n",
              "mogwai                  20\n",
              "robert pollard          19\n",
              "neil young              19\n",
              "the fall                18\n",
              "xiu xiu                 17"
            ]
          },
          "metadata": {},
          "execution_count": 95
        }
      ]
    },
    {
      "cell_type": "markdown",
      "metadata": {
        "id": "8X_nh9skPYFy"
      },
      "source": [
        "##### d) Compute the mean, median, mode, standard deviation, minimum, and maximum album scores."
      ]
    },
    {
      "cell_type": "code",
      "metadata": {
        "colab": {
          "base_uri": "https://localhost:8080/"
        },
        "id": "uZ7r0ztmPfHz",
        "outputId": "4e0b5324-6547-4bd3-f27a-3ef28ca79ad9"
      },
      "source": [
        "print(df['score'].describe())"
      ],
      "execution_count": 96,
      "outputs": [
        {
          "output_type": "stream",
          "name": "stdout",
          "text": [
            "count    18389.000000\n",
            "mean         7.005715\n",
            "std          1.293758\n",
            "min          0.000000\n",
            "25%          6.400000\n",
            "50%          7.200000\n",
            "75%          7.800000\n",
            "max         10.000000\n",
            "Name: score, dtype: float64\n"
          ]
        }
      ]
    },
    {
      "cell_type": "markdown",
      "metadata": {
        "id": "OlKyrT_6PpdM"
      },
      "source": [
        "##### e) Compute the average score by each review author and return the result in a dataframe sort in descending order."
      ]
    },
    {
      "cell_type": "code",
      "metadata": {
        "colab": {
          "base_uri": "https://localhost:8080/",
          "height": 205
        },
        "id": "4uDh5nntPvyi",
        "outputId": "a0cae36b-65ea-4029-c3e8-70b4477493ab"
      },
      "source": [
        "# create temp using groupby on the metadata\n",
        "temp= df.groupby('author')['score'].mean().reset_index()\n",
        "\n",
        "# sort based on score\n",
        "temp.sort_values(by=['score'], ascending= False, na_position= 'last', inplace= True)\n",
        "\n",
        "# display top 5\n",
        "temp.head()"
      ],
      "execution_count": 97,
      "outputs": [
        {
          "output_type": "execute_result",
          "data": {
            "text/html": [
              "<div>\n",
              "<style scoped>\n",
              "    .dataframe tbody tr th:only-of-type {\n",
              "        vertical-align: middle;\n",
              "    }\n",
              "\n",
              "    .dataframe tbody tr th {\n",
              "        vertical-align: top;\n",
              "    }\n",
              "\n",
              "    .dataframe thead th {\n",
              "        text-align: right;\n",
              "    }\n",
              "</style>\n",
              "<table border=\"1\" class=\"dataframe\">\n",
              "  <thead>\n",
              "    <tr style=\"text-align: right;\">\n",
              "      <th></th>\n",
              "      <th>author</th>\n",
              "      <th>score</th>\n",
              "    </tr>\n",
              "  </thead>\n",
              "  <tbody>\n",
              "    <tr>\n",
              "      <th>310</th>\n",
              "      <td>nelson george</td>\n",
              "      <td>10.000000</td>\n",
              "    </tr>\n",
              "    <tr>\n",
              "      <th>278</th>\n",
              "      <td>maura johnston</td>\n",
              "      <td>10.000000</td>\n",
              "    </tr>\n",
              "    <tr>\n",
              "      <th>71</th>\n",
              "      <td>carvell wallace</td>\n",
              "      <td>9.833333</td>\n",
              "    </tr>\n",
              "    <tr>\n",
              "      <th>124</th>\n",
              "      <td>dorian lynskey</td>\n",
              "      <td>9.500000</td>\n",
              "    </tr>\n",
              "    <tr>\n",
              "      <th>356</th>\n",
              "      <td>rollie pemberton &amp; nick sylvester</td>\n",
              "      <td>9.400000</td>\n",
              "    </tr>\n",
              "  </tbody>\n",
              "</table>\n",
              "</div>"
            ],
            "text/plain": [
              "                                author      score\n",
              "310                      nelson george  10.000000\n",
              "278                     maura johnston  10.000000\n",
              "71                     carvell wallace   9.833333\n",
              "124                     dorian lynskey   9.500000\n",
              "356  rollie pemberton & nick sylvester   9.400000"
            ]
          },
          "metadata": {},
          "execution_count": 97
        }
      ]
    },
    {
      "cell_type": "markdown",
      "metadata": {
        "id": "UH6Kiu8YQT2-"
      },
      "source": [
        "##### f) Compute the average album score per artist and return the result in a dataframe with an additional column for the number of albums they have had reviewed."
      ]
    },
    {
      "cell_type": "code",
      "metadata": {
        "colab": {
          "base_uri": "https://localhost:8080/",
          "height": 421
        },
        "id": "7P6oNaIyQbTs",
        "outputId": "275f83f8-1410-4a55-9e00-3cfe67acb8f3"
      },
      "source": [
        "# create a temp dataframe based on the requirements\n",
        "# create a df of artists and albums and drop duplicates\n",
        "temp1= df[['artist_x', 'title']]\n",
        "temp1= temp1.drop_duplicates().reset_index(drop= True)\n",
        "\n",
        "# create a new dataframe with count of unique albums reviewed for every artist\n",
        "count= pd.DataFrame(temp1['artist_x'].value_counts())\n",
        "count.reset_index(inplace= True)\n",
        "count= count.rename({'index': 'artist', 'artist_x': 'count'}, axis= 1)\n",
        "\n",
        "# calculate average album score per artist\n",
        "temp2= df.groupby('artist_x')['score'].mean().reset_index()\n",
        "temp2= temp2.rename({'artist_x': 'artist', 'score': 'score'}, axis= 1)\n",
        "\n",
        "# merge the two datasets\n",
        "merge= pd.merge(count, temp2, on= ['artist'], how= 'left')\n",
        "\n",
        "# show merge\n",
        "merge"
      ],
      "execution_count": 98,
      "outputs": [
        {
          "output_type": "execute_result",
          "data": {
            "text/html": [
              "<div>\n",
              "<style scoped>\n",
              "    .dataframe tbody tr th:only-of-type {\n",
              "        vertical-align: middle;\n",
              "    }\n",
              "\n",
              "    .dataframe tbody tr th {\n",
              "        vertical-align: top;\n",
              "    }\n",
              "\n",
              "    .dataframe thead th {\n",
              "        text-align: right;\n",
              "    }\n",
              "</style>\n",
              "<table border=\"1\" class=\"dataframe\">\n",
              "  <thead>\n",
              "    <tr style=\"text-align: right;\">\n",
              "      <th></th>\n",
              "      <th>artist</th>\n",
              "      <th>count</th>\n",
              "      <th>score</th>\n",
              "    </tr>\n",
              "  </thead>\n",
              "  <tbody>\n",
              "    <tr>\n",
              "      <th>0</th>\n",
              "      <td>various artists</td>\n",
              "      <td>687</td>\n",
              "      <td>7.278603</td>\n",
              "    </tr>\n",
              "    <tr>\n",
              "      <th>1</th>\n",
              "      <td>guided by voices</td>\n",
              "      <td>23</td>\n",
              "      <td>7.230435</td>\n",
              "    </tr>\n",
              "    <tr>\n",
              "      <th>2</th>\n",
              "      <td>david bowie</td>\n",
              "      <td>21</td>\n",
              "      <td>7.742857</td>\n",
              "    </tr>\n",
              "    <tr>\n",
              "      <th>3</th>\n",
              "      <td>the beatles</td>\n",
              "      <td>21</td>\n",
              "      <td>8.890476</td>\n",
              "    </tr>\n",
              "    <tr>\n",
              "      <th>4</th>\n",
              "      <td>mogwai</td>\n",
              "      <td>20</td>\n",
              "      <td>7.250000</td>\n",
              "    </tr>\n",
              "    <tr>\n",
              "      <th>...</th>\n",
              "      <td>...</td>\n",
              "      <td>...</td>\n",
              "      <td>...</td>\n",
              "    </tr>\n",
              "    <tr>\n",
              "      <th>8710</th>\n",
              "      <td>yung joc</td>\n",
              "      <td>1</td>\n",
              "      <td>3.200000</td>\n",
              "    </tr>\n",
              "    <tr>\n",
              "      <th>8711</th>\n",
              "      <td>fin fang foom</td>\n",
              "      <td>1</td>\n",
              "      <td>5.500000</td>\n",
              "    </tr>\n",
              "    <tr>\n",
              "      <th>8712</th>\n",
              "      <td>luke roberts</td>\n",
              "      <td>1</td>\n",
              "      <td>7.500000</td>\n",
              "    </tr>\n",
              "    <tr>\n",
              "      <th>8713</th>\n",
              "      <td>alice gerrard</td>\n",
              "      <td>1</td>\n",
              "      <td>7.400000</td>\n",
              "    </tr>\n",
              "    <tr>\n",
              "      <th>8714</th>\n",
              "      <td>tobin sprout</td>\n",
              "      <td>1</td>\n",
              "      <td>6.000000</td>\n",
              "    </tr>\n",
              "  </tbody>\n",
              "</table>\n",
              "<p>8715 rows × 3 columns</p>\n",
              "</div>"
            ],
            "text/plain": [
              "                artist  count     score\n",
              "0      various artists    687  7.278603\n",
              "1     guided by voices     23  7.230435\n",
              "2          david bowie     21  7.742857\n",
              "3          the beatles     21  8.890476\n",
              "4               mogwai     20  7.250000\n",
              "...                ...    ...       ...\n",
              "8710          yung joc      1  3.200000\n",
              "8711     fin fang foom      1  5.500000\n",
              "8712      luke roberts      1  7.500000\n",
              "8713     alice gerrard      1  7.400000\n",
              "8714      tobin sprout      1  6.000000\n",
              "\n",
              "[8715 rows x 3 columns]"
            ]
          },
          "metadata": {},
          "execution_count": 98
        }
      ]
    },
    {
      "cell_type": "markdown",
      "metadata": {
        "id": "kp_LVSIpXhnV"
      },
      "source": [
        "###### i) Return the artists with the Top 10 highest average scores"
      ]
    },
    {
      "cell_type": "code",
      "metadata": {
        "colab": {
          "base_uri": "https://localhost:8080/",
          "height": 361
        },
        "id": "lwPhZ_LIXp0g",
        "outputId": "568e39eb-8df2-492d-f895-0e4883eed23a"
      },
      "source": [
        "# sort based on average score column\n",
        "merge.sort_values(by=['score'], ascending= False, inplace= True)\n",
        "\n",
        "# print top 10\n",
        "merge.head(10)"
      ],
      "execution_count": 99,
      "outputs": [
        {
          "output_type": "execute_result",
          "data": {
            "text/html": [
              "<div>\n",
              "<style scoped>\n",
              "    .dataframe tbody tr th:only-of-type {\n",
              "        vertical-align: middle;\n",
              "    }\n",
              "\n",
              "    .dataframe tbody tr th {\n",
              "        vertical-align: top;\n",
              "    }\n",
              "\n",
              "    .dataframe thead th {\n",
              "        text-align: right;\n",
              "    }\n",
              "</style>\n",
              "<table border=\"1\" class=\"dataframe\">\n",
              "  <thead>\n",
              "    <tr style=\"text-align: right;\">\n",
              "      <th></th>\n",
              "      <th>artist</th>\n",
              "      <th>count</th>\n",
              "      <th>score</th>\n",
              "    </tr>\n",
              "  </thead>\n",
              "  <tbody>\n",
              "    <tr>\n",
              "      <th>4813</th>\n",
              "      <td>stevie wonder</td>\n",
              "      <td>1</td>\n",
              "      <td>10.00</td>\n",
              "    </tr>\n",
              "    <tr>\n",
              "      <th>5120</th>\n",
              "      <td>television</td>\n",
              "      <td>1</td>\n",
              "      <td>10.00</td>\n",
              "    </tr>\n",
              "    <tr>\n",
              "      <th>7276</th>\n",
              "      <td>slint</td>\n",
              "      <td>1</td>\n",
              "      <td>10.00</td>\n",
              "    </tr>\n",
              "    <tr>\n",
              "      <th>3709</th>\n",
              "      <td>dangelo</td>\n",
              "      <td>1</td>\n",
              "      <td>10.00</td>\n",
              "    </tr>\n",
              "    <tr>\n",
              "      <th>5721</th>\n",
              "      <td>talk talk</td>\n",
              "      <td>1</td>\n",
              "      <td>10.00</td>\n",
              "    </tr>\n",
              "    <tr>\n",
              "      <th>4833</th>\n",
              "      <td>the stone roses</td>\n",
              "      <td>1</td>\n",
              "      <td>10.00</td>\n",
              "    </tr>\n",
              "    <tr>\n",
              "      <th>2663</th>\n",
              "      <td>elvis costello &amp; the attractions</td>\n",
              "      <td>2</td>\n",
              "      <td>9.75</td>\n",
              "    </tr>\n",
              "    <tr>\n",
              "      <th>8048</th>\n",
              "      <td>n.w.a.</td>\n",
              "      <td>1</td>\n",
              "      <td>9.70</td>\n",
              "    </tr>\n",
              "    <tr>\n",
              "      <th>5404</th>\n",
              "      <td>ultramagnetic mc's</td>\n",
              "      <td>1</td>\n",
              "      <td>9.70</td>\n",
              "    </tr>\n",
              "    <tr>\n",
              "      <th>3308</th>\n",
              "      <td>my bloody valentine</td>\n",
              "      <td>2</td>\n",
              "      <td>9.55</td>\n",
              "    </tr>\n",
              "  </tbody>\n",
              "</table>\n",
              "</div>"
            ],
            "text/plain": [
              "                                artist  count  score\n",
              "4813                     stevie wonder      1  10.00\n",
              "5120                        television      1  10.00\n",
              "7276                             slint      1  10.00\n",
              "3709                           dangelo      1  10.00\n",
              "5721                         talk talk      1  10.00\n",
              "4833                   the stone roses      1  10.00\n",
              "2663  elvis costello & the attractions      2   9.75\n",
              "8048                            n.w.a.      1   9.70\n",
              "5404                ultramagnetic mc's      1   9.70\n",
              "3308               my bloody valentine      2   9.55"
            ]
          },
          "metadata": {},
          "execution_count": 99
        }
      ]
    },
    {
      "cell_type": "markdown",
      "metadata": {
        "id": "829AbsR0YO7W"
      },
      "source": [
        "###### ii) Return the artists with the Top 10 lowest average scores."
      ]
    },
    {
      "cell_type": "code",
      "metadata": {
        "colab": {
          "base_uri": "https://localhost:8080/",
          "height": 361
        },
        "id": "_sCdCes_Xs--",
        "outputId": "3f2bd9a8-0b50-4fe0-99e5-db169b102fcf"
      },
      "source": [
        "merge.tail(10)"
      ],
      "execution_count": 100,
      "outputs": [
        {
          "output_type": "execute_result",
          "data": {
            "text/html": [
              "<div>\n",
              "<style scoped>\n",
              "    .dataframe tbody tr th:only-of-type {\n",
              "        vertical-align: middle;\n",
              "    }\n",
              "\n",
              "    .dataframe tbody tr th {\n",
              "        vertical-align: top;\n",
              "    }\n",
              "\n",
              "    .dataframe thead th {\n",
              "        text-align: right;\n",
              "    }\n",
              "</style>\n",
              "<table border=\"1\" class=\"dataframe\">\n",
              "  <thead>\n",
              "    <tr style=\"text-align: right;\">\n",
              "      <th></th>\n",
              "      <th>artist</th>\n",
              "      <th>count</th>\n",
              "      <th>score</th>\n",
              "    </tr>\n",
              "  </thead>\n",
              "  <tbody>\n",
              "    <tr>\n",
              "      <th>7124</th>\n",
              "      <td>lou reed, metallica</td>\n",
              "      <td>1</td>\n",
              "      <td>1.0</td>\n",
              "    </tr>\n",
              "    <tr>\n",
              "      <th>3130</th>\n",
              "      <td>non</td>\n",
              "      <td>2</td>\n",
              "      <td>1.0</td>\n",
              "    </tr>\n",
              "    <tr>\n",
              "      <th>4249</th>\n",
              "      <td>geoff farina</td>\n",
              "      <td>1</td>\n",
              "      <td>1.0</td>\n",
              "    </tr>\n",
              "    <tr>\n",
              "      <th>6084</th>\n",
              "      <td>avey tare, kra brekkan</td>\n",
              "      <td>1</td>\n",
              "      <td>1.0</td>\n",
              "    </tr>\n",
              "    <tr>\n",
              "      <th>7348</th>\n",
              "      <td>toe</td>\n",
              "      <td>1</td>\n",
              "      <td>0.8</td>\n",
              "    </tr>\n",
              "    <tr>\n",
              "      <th>6743</th>\n",
              "      <td>liars academy</td>\n",
              "      <td>1</td>\n",
              "      <td>0.6</td>\n",
              "    </tr>\n",
              "    <tr>\n",
              "      <th>8407</th>\n",
              "      <td>shat</td>\n",
              "      <td>1</td>\n",
              "      <td>0.2</td>\n",
              "    </tr>\n",
              "    <tr>\n",
              "      <th>8548</th>\n",
              "      <td>dan le sac vs. scroobius pip</td>\n",
              "      <td>1</td>\n",
              "      <td>0.2</td>\n",
              "    </tr>\n",
              "    <tr>\n",
              "      <th>6316</th>\n",
              "      <td>push kings</td>\n",
              "      <td>1</td>\n",
              "      <td>0.1</td>\n",
              "    </tr>\n",
              "    <tr>\n",
              "      <th>4595</th>\n",
              "      <td>travis morrison</td>\n",
              "      <td>1</td>\n",
              "      <td>0.0</td>\n",
              "    </tr>\n",
              "  </tbody>\n",
              "</table>\n",
              "</div>"
            ],
            "text/plain": [
              "                            artist  count  score\n",
              "7124           lou reed, metallica      1    1.0\n",
              "3130                           non      2    1.0\n",
              "4249                  geoff farina      1    1.0\n",
              "6084        avey tare, kra brekkan      1    1.0\n",
              "7348                           toe      1    0.8\n",
              "6743                 liars academy      1    0.6\n",
              "8407                          shat      1    0.2\n",
              "8548  dan le sac vs. scroobius pip      1    0.2\n",
              "6316                    push kings      1    0.1\n",
              "4595               travis morrison      1    0.0"
            ]
          },
          "metadata": {},
          "execution_count": 100
        }
      ]
    },
    {
      "cell_type": "markdown",
      "metadata": {
        "id": "6u74ArALYZvW"
      },
      "source": [
        "## Dataframe Manipulation"
      ]
    },
    {
      "cell_type": "markdown",
      "metadata": {
        "id": "S0vl6E4JYfSF"
      },
      "source": [
        "##### a) Create a new DataFrame excluding all artists with names that start with the letter \"M\" (either upper or lowercase)"
      ]
    },
    {
      "cell_type": "code",
      "metadata": {
        "id": "lyjHogd1Yp8v"
      },
      "source": [
        "# save the df into a temp dataframe\n",
        "temp= df\n",
        "\n",
        "# exclude rows starting with m\n",
        "temp_m= temp[~temp['artist_x'].astype(str).str.startswith('M')]\n",
        "temp_m= temp_m[~temp['artist_x'].astype(str).str.startswith('m')]"
      ],
      "execution_count": 101,
      "outputs": []
    },
    {
      "cell_type": "markdown",
      "metadata": {
        "id": "N2V7S4oTamFo"
      },
      "source": [
        "##### b) Create a new DataFrame excluding albums with a score less than 4.0"
      ]
    },
    {
      "cell_type": "code",
      "metadata": {
        "colab": {
          "base_uri": "https://localhost:8080/"
        },
        "id": "zSEW1OLvase-",
        "outputId": "849c2bb5-bbba-407b-e377-685b5c81c30b"
      },
      "source": [
        "# create a new df with the required condition\n",
        "temp_4= temp.loc[temp['score']> 4.0]\n",
        "\n",
        "# check the minimum\n",
        "temp_4['score'].min()"
      ],
      "execution_count": 102,
      "outputs": [
        {
          "output_type": "execute_result",
          "data": {
            "text/plain": [
              "4.1"
            ]
          },
          "metadata": {},
          "execution_count": 102
        }
      ]
    },
    {
      "cell_type": "markdown",
      "metadata": {
        "id": "JATFceCUbFo9"
      },
      "source": [
        "##### c) Create a new DataFrame excluding albums from the label Columbia"
      ]
    },
    {
      "cell_type": "code",
      "metadata": {
        "id": "FLcwFH6CbK-n"
      },
      "source": [
        "# create a new dataframe with the required conditions\n",
        "temp_c= temp.loc[temp['label']!= 'Columbia']"
      ],
      "execution_count": 103,
      "outputs": []
    },
    {
      "cell_type": "markdown",
      "metadata": {
        "id": "9a4HqLiAbVJB"
      },
      "source": [
        "##### d) Create a new DataFrame excluding albums that belong to metal genre"
      ]
    },
    {
      "cell_type": "code",
      "metadata": {
        "colab": {
          "base_uri": "https://localhost:8080/"
        },
        "id": "1SGTsoiKba6t",
        "outputId": "4bacc6d3-e5bc-43af-fade-3d2abe015b09"
      },
      "source": [
        "# create a new dataframe based on required condition\n",
        "temp_metal= temp[~temp['genre'].astype(str).str.contains('Metal')]\n",
        "temp_metal= temp_m[~temp['genre'].astype(str).str.contains('metal')]"
      ],
      "execution_count": 104,
      "outputs": [
        {
          "output_type": "stream",
          "name": "stderr",
          "text": [
            "/usr/local/lib/python3.7/dist-packages/ipykernel_launcher.py:3: UserWarning: Boolean Series key will be reindexed to match DataFrame index.\n",
            "  This is separate from the ipykernel package so we can avoid doing imports until\n"
          ]
        }
      ]
    },
    {
      "cell_type": "markdown",
      "metadata": {
        "id": "Sw5qOil8eVb-"
      },
      "source": [
        "##### e) create a new DataFrame excluding albums where the artist's name contains an even number of characters (including white space as characters)"
      ]
    },
    {
      "cell_type": "code",
      "metadata": {
        "colab": {
          "base_uri": "https://localhost:8080/"
        },
        "id": "yj7u4FJ8edvt",
        "outputId": "62a0bb41-a959-4a32-bf61-23fdbfc3375e"
      },
      "source": [
        "# create a dataframe based on the required conditions\n",
        "temp_even= temp.loc[temp['artist_x'].str.len() % 2== 0]\n",
        "\n",
        "#check the number of characters in the artist column\n",
        "temp_even['artist_x'].str.len().head()"
      ],
      "execution_count": 105,
      "outputs": [
        {
          "output_type": "execute_result",
          "data": {
            "text/plain": [
              "0    14\n",
              "1     8\n",
              "2    12\n",
              "3    16\n",
              "4     4\n",
              "Name: artist_x, dtype: int64"
            ]
          },
          "metadata": {},
          "execution_count": 105
        }
      ]
    },
    {
      "cell_type": "markdown",
      "metadata": {
        "id": "IunN_lICe-gw"
      },
      "source": [
        "##### f) Combine these DataFrames into one where each album meets the conditions required for each"
      ]
    },
    {
      "cell_type": "code",
      "metadata": {
        "colab": {
          "base_uri": "https://localhost:8080/"
        },
        "id": "Pv0eIkw7fEPg",
        "outputId": "3e6b077d-cadf-4559-f34d-e87d055526e0"
      },
      "source": [
        "# to achieve this, we will just use the temp df originally created\n",
        "# and apply all filters on the same temp dataframe\n",
        "\n",
        "# save the df into a temp dataframe\n",
        "temp= df\n",
        "\n",
        "# exclude rows starting with m\n",
        "temp= temp[~temp['artist_x'].astype(str).str.startswith('M')]\n",
        "temp= temp[~temp['artist_x'].astype(str).str.startswith('m')]\n",
        "\n",
        "# create a new df with the required condition\n",
        "temp= temp.loc[temp['score']> 4.0]\n",
        "\n",
        "# create a new dataframe with the required conditions\n",
        "temp= temp.loc[temp['label']!= 'Columbia']\n",
        "\n",
        "# create a new dataframe based on required condition\n",
        "temp= temp[~temp['genre'].astype(str).str.contains('Metal')]\n",
        "temp= temp[~temp['genre'].astype(str).str.contains('metal')]\n",
        "\n",
        "# create a dataframe based on the required conditions\n",
        "temp= temp.loc[temp['artist_x'].str.len() % 2== 0]\n",
        "\n",
        "# allocate it to a new dataframe final\n",
        "final= temp\n",
        "final.reset_index(inplace= True)\n",
        "\n",
        "# check final\n",
        "final.info()"
      ],
      "execution_count": 106,
      "outputs": [
        {
          "output_type": "stream",
          "name": "stdout",
          "text": [
            "<class 'pandas.core.frame.DataFrame'>\n",
            "RangeIndex: 7520 entries, 0 to 7519\n",
            "Data columns (total 19 columns):\n",
            " #   Column          Non-Null Count  Dtype  \n",
            "---  ------          --------------  -----  \n",
            " 0   index           7520 non-null   int64  \n",
            " 1   reviewid        7520 non-null   int64  \n",
            " 2   title           7520 non-null   object \n",
            " 3   artist_x        7520 non-null   object \n",
            " 4   url             7520 non-null   object \n",
            " 5   score           7520 non-null   float64\n",
            " 6   best_new_music  7520 non-null   int64  \n",
            " 7   author          7520 non-null   object \n",
            " 8   author_type     5970 non-null   object \n",
            " 9   pub_date        7520 non-null   object \n",
            " 10  pub_weekday     7520 non-null   int64  \n",
            " 11  pub_day         7520 non-null   int64  \n",
            " 12  pub_month       7520 non-null   int64  \n",
            " 13  pub_year        7520 non-null   int64  \n",
            " 14  genre           6821 non-null   object \n",
            " 15  artist_y        7520 non-null   object \n",
            " 16  label           7504 non-null   object \n",
            " 17  year            7338 non-null   float64\n",
            " 18  content         7520 non-null   object \n",
            "dtypes: float64(2), int64(7), object(10)\n",
            "memory usage: 1.1+ MB\n"
          ]
        }
      ]
    },
    {
      "cell_type": "markdown",
      "metadata": {
        "id": "na9olBpJf2dQ"
      },
      "source": [
        "## Feature Engineering"
      ]
    },
    {
      "cell_type": "markdown",
      "metadata": {
        "id": "SaxZ9jO1f3lh"
      },
      "source": [
        "##### a) Construct a pandas DataFrame containing all album reviews and mettadata. Remove any rows that have null values in any column."
      ]
    },
    {
      "cell_type": "code",
      "metadata": {
        "colab": {
          "base_uri": "https://localhost:8080/"
        },
        "id": "u66MU8yegAcE",
        "outputId": "b1c0ed62-b670-4a45-b6aa-8a8a177263d4"
      },
      "source": [
        "# for this we have to use the original df dataframe\n",
        "df1= df.dropna()\n",
        "\n",
        "# we originally had 18389 entries\n",
        "# check how many entries we have now\n",
        "df1.info()"
      ],
      "execution_count": 107,
      "outputs": [
        {
          "output_type": "stream",
          "name": "stdout",
          "text": [
            "<class 'pandas.core.frame.DataFrame'>\n",
            "Int64Index: 12350 entries, 0 to 18382\n",
            "Data columns (total 18 columns):\n",
            " #   Column          Non-Null Count  Dtype  \n",
            "---  ------          --------------  -----  \n",
            " 0   reviewid        12350 non-null  int64  \n",
            " 1   title           12350 non-null  object \n",
            " 2   artist_x        12350 non-null  object \n",
            " 3   url             12350 non-null  object \n",
            " 4   score           12350 non-null  float64\n",
            " 5   best_new_music  12350 non-null  int64  \n",
            " 6   author          12350 non-null  object \n",
            " 7   author_type     12350 non-null  object \n",
            " 8   pub_date        12350 non-null  object \n",
            " 9   pub_weekday     12350 non-null  int64  \n",
            " 10  pub_day         12350 non-null  int64  \n",
            " 11  pub_month       12350 non-null  int64  \n",
            " 12  pub_year        12350 non-null  int64  \n",
            " 13  genre           12350 non-null  object \n",
            " 14  artist_y        12350 non-null  object \n",
            " 15  label           12350 non-null  object \n",
            " 16  year            12350 non-null  float64\n",
            " 17  content         12350 non-null  object \n",
            "dtypes: float64(2), int64(6), object(10)\n",
            "memory usage: 1.8+ MB\n"
          ]
        }
      ]
    },
    {
      "cell_type": "markdown",
      "metadata": {
        "id": "1GLRCeLggv7O"
      },
      "source": [
        "##### b) Add a column to the dataframe for each genre. The entry in this column should be a 1 if the album/row in question belons to that genre and 0 otherwise. Remeber that albums can belong to multiple genres."
      ]
    },
    {
      "cell_type": "code",
      "metadata": {
        "colab": {
          "base_uri": "https://localhost:8080/",
          "height": 569
        },
        "id": "W_u3lCG9g6Un",
        "outputId": "d7e412cc-68b3-49c6-cd42-5285ec3ee4c2"
      },
      "source": [
        "# separate all genres into one list, considering '// as a separator\n",
        "genre= df1['genre'].str.split('/').tolist()\n",
        "\n",
        "# flatten the list\n",
        "flat_genre= [item for sublist in genre for item in sublist]\n",
        "\n",
        "# convert to a set to make unique\n",
        "set_genre= set(flat_genre)\n",
        "\n",
        "# back to a list\n",
        "unique_genre= list(set_genre)\n",
        "\n",
        "# create columns for each unique genre\n",
        "df1= df1.reindex(df1.columns.tolist() + unique_genre, axis= 1, fill_value= 0)\n",
        "\n",
        "# for each value inside the column, update the dummy\n",
        "for index, row in df1.iterrows():\n",
        "  for val in row.genre.split('/'):\n",
        "    if val!= 'NA':\n",
        "      df1.loc[index, val]= 1\n",
        "\n",
        "# check the df\n",
        "df1.head()"
      ],
      "execution_count": 108,
      "outputs": [
        {
          "output_type": "execute_result",
          "data": {
            "text/html": [
              "<div>\n",
              "<style scoped>\n",
              "    .dataframe tbody tr th:only-of-type {\n",
              "        vertical-align: middle;\n",
              "    }\n",
              "\n",
              "    .dataframe tbody tr th {\n",
              "        vertical-align: top;\n",
              "    }\n",
              "\n",
              "    .dataframe thead th {\n",
              "        text-align: right;\n",
              "    }\n",
              "</style>\n",
              "<table border=\"1\" class=\"dataframe\">\n",
              "  <thead>\n",
              "    <tr style=\"text-align: right;\">\n",
              "      <th></th>\n",
              "      <th>reviewid</th>\n",
              "      <th>title</th>\n",
              "      <th>artist_x</th>\n",
              "      <th>url</th>\n",
              "      <th>score</th>\n",
              "      <th>best_new_music</th>\n",
              "      <th>author</th>\n",
              "      <th>author_type</th>\n",
              "      <th>pub_date</th>\n",
              "      <th>pub_weekday</th>\n",
              "      <th>pub_day</th>\n",
              "      <th>pub_month</th>\n",
              "      <th>pub_year</th>\n",
              "      <th>genre</th>\n",
              "      <th>artist_y</th>\n",
              "      <th>label</th>\n",
              "      <th>year</th>\n",
              "      <th>content</th>\n",
              "      <th>global</th>\n",
              "      <th>experimental</th>\n",
              "      <th>electronic</th>\n",
              "      <th>pop</th>\n",
              "      <th>rap</th>\n",
              "      <th>jazz</th>\n",
              "      <th>r&amp;b</th>\n",
              "      <th>country</th>\n",
              "      <th>metal</th>\n",
              "      <th>rock</th>\n",
              "      <th>folk</th>\n",
              "    </tr>\n",
              "  </thead>\n",
              "  <tbody>\n",
              "    <tr>\n",
              "      <th>0</th>\n",
              "      <td>22703</td>\n",
              "      <td>mezzanine</td>\n",
              "      <td>massive attack</td>\n",
              "      <td>http://pitchfork.com/reviews/albums/22703-mezz...</td>\n",
              "      <td>9.3</td>\n",
              "      <td>0</td>\n",
              "      <td>nate patrin</td>\n",
              "      <td>contributor</td>\n",
              "      <td>2017-01-08</td>\n",
              "      <td>6</td>\n",
              "      <td>8</td>\n",
              "      <td>1</td>\n",
              "      <td>2017</td>\n",
              "      <td>electronic</td>\n",
              "      <td>massive attack</td>\n",
              "      <td>virgin</td>\n",
              "      <td>1998.0</td>\n",
              "      <td>“Trip-hop” eventually became a ’90s punchline,...</td>\n",
              "      <td>0</td>\n",
              "      <td>0</td>\n",
              "      <td>1</td>\n",
              "      <td>0</td>\n",
              "      <td>0</td>\n",
              "      <td>0</td>\n",
              "      <td>0</td>\n",
              "      <td>0</td>\n",
              "      <td>0</td>\n",
              "      <td>0</td>\n",
              "      <td>0</td>\n",
              "    </tr>\n",
              "    <tr>\n",
              "      <th>1</th>\n",
              "      <td>22721</td>\n",
              "      <td>prelapsarian</td>\n",
              "      <td>krallice</td>\n",
              "      <td>http://pitchfork.com/reviews/albums/22721-prel...</td>\n",
              "      <td>7.9</td>\n",
              "      <td>0</td>\n",
              "      <td>zoe camp</td>\n",
              "      <td>contributor</td>\n",
              "      <td>2017-01-07</td>\n",
              "      <td>5</td>\n",
              "      <td>7</td>\n",
              "      <td>1</td>\n",
              "      <td>2017</td>\n",
              "      <td>metal</td>\n",
              "      <td>krallice</td>\n",
              "      <td>hathenter</td>\n",
              "      <td>2016.0</td>\n",
              "      <td>Eight years, five albums, and two EPs in, the ...</td>\n",
              "      <td>0</td>\n",
              "      <td>0</td>\n",
              "      <td>0</td>\n",
              "      <td>0</td>\n",
              "      <td>0</td>\n",
              "      <td>0</td>\n",
              "      <td>0</td>\n",
              "      <td>0</td>\n",
              "      <td>1</td>\n",
              "      <td>0</td>\n",
              "      <td>0</td>\n",
              "    </tr>\n",
              "    <tr>\n",
              "      <th>2</th>\n",
              "      <td>22659</td>\n",
              "      <td>all of them naturals</td>\n",
              "      <td>uranium club</td>\n",
              "      <td>http://pitchfork.com/reviews/albums/22659-all-...</td>\n",
              "      <td>7.3</td>\n",
              "      <td>0</td>\n",
              "      <td>david glickman</td>\n",
              "      <td>contributor</td>\n",
              "      <td>2017-01-07</td>\n",
              "      <td>5</td>\n",
              "      <td>7</td>\n",
              "      <td>1</td>\n",
              "      <td>2017</td>\n",
              "      <td>rock</td>\n",
              "      <td>uranium club</td>\n",
              "      <td>static shock</td>\n",
              "      <td>2016.0</td>\n",
              "      <td>Minneapolis’ Uranium Club seem to revel in bei...</td>\n",
              "      <td>0</td>\n",
              "      <td>0</td>\n",
              "      <td>0</td>\n",
              "      <td>0</td>\n",
              "      <td>0</td>\n",
              "      <td>0</td>\n",
              "      <td>0</td>\n",
              "      <td>0</td>\n",
              "      <td>0</td>\n",
              "      <td>1</td>\n",
              "      <td>0</td>\n",
              "    </tr>\n",
              "    <tr>\n",
              "      <th>3</th>\n",
              "      <td>22661</td>\n",
              "      <td>first songs</td>\n",
              "      <td>kleenex, liliput</td>\n",
              "      <td>http://pitchfork.com/reviews/albums/22661-firs...</td>\n",
              "      <td>9.0</td>\n",
              "      <td>1</td>\n",
              "      <td>jenn pelly</td>\n",
              "      <td>associate reviews editor</td>\n",
              "      <td>2017-01-06</td>\n",
              "      <td>4</td>\n",
              "      <td>6</td>\n",
              "      <td>1</td>\n",
              "      <td>2017</td>\n",
              "      <td>rock</td>\n",
              "      <td>kleenex</td>\n",
              "      <td>kill rock stars</td>\n",
              "      <td>2016.0</td>\n",
              "      <td>Kleenex began with a crash. It transpired one ...</td>\n",
              "      <td>0</td>\n",
              "      <td>0</td>\n",
              "      <td>0</td>\n",
              "      <td>0</td>\n",
              "      <td>0</td>\n",
              "      <td>0</td>\n",
              "      <td>0</td>\n",
              "      <td>0</td>\n",
              "      <td>0</td>\n",
              "      <td>1</td>\n",
              "      <td>0</td>\n",
              "    </tr>\n",
              "    <tr>\n",
              "      <th>4</th>\n",
              "      <td>22725</td>\n",
              "      <td>new start</td>\n",
              "      <td>taso</td>\n",
              "      <td>http://pitchfork.com/reviews/albums/22725-new-...</td>\n",
              "      <td>8.1</td>\n",
              "      <td>0</td>\n",
              "      <td>kevin lozano</td>\n",
              "      <td>tracks coordinator</td>\n",
              "      <td>2017-01-06</td>\n",
              "      <td>4</td>\n",
              "      <td>6</td>\n",
              "      <td>1</td>\n",
              "      <td>2017</td>\n",
              "      <td>electronic</td>\n",
              "      <td>taso</td>\n",
              "      <td>teklife</td>\n",
              "      <td>2016.0</td>\n",
              "      <td>It is impossible to consider a given release b...</td>\n",
              "      <td>0</td>\n",
              "      <td>0</td>\n",
              "      <td>1</td>\n",
              "      <td>0</td>\n",
              "      <td>0</td>\n",
              "      <td>0</td>\n",
              "      <td>0</td>\n",
              "      <td>0</td>\n",
              "      <td>0</td>\n",
              "      <td>0</td>\n",
              "      <td>0</td>\n",
              "    </tr>\n",
              "  </tbody>\n",
              "</table>\n",
              "</div>"
            ],
            "text/plain": [
              "   reviewid                 title          artist_x  ... metal  rock  folk\n",
              "0     22703             mezzanine    massive attack  ...     0     0     0\n",
              "1     22721          prelapsarian          krallice  ...     1     0     0\n",
              "2     22659  all of them naturals      uranium club  ...     0     1     0\n",
              "3     22661           first songs  kleenex, liliput  ...     0     1     0\n",
              "4     22725             new start              taso  ...     0     0     0\n",
              "\n",
              "[5 rows x 29 columns]"
            ]
          },
          "metadata": {},
          "execution_count": 108
        }
      ]
    },
    {
      "cell_type": "markdown",
      "metadata": {
        "id": "EGhJo5AGibgo"
      },
      "source": [
        "##### c) Add an additional two columns with categorical variables for 1) the author of the review and 2) the role of the author"
      ]
    },
    {
      "cell_type": "code",
      "metadata": {
        "id": "5NgG72ykiiF8"
      },
      "source": [
        "# df1 already has author and author_type for these two specifications"
      ],
      "execution_count": 109,
      "outputs": []
    },
    {
      "cell_type": "markdown",
      "metadata": {
        "id": "q4jXUs8ri3AH"
      },
      "source": [
        "##### d) Create a column for the number of words in the review."
      ]
    },
    {
      "cell_type": "code",
      "metadata": {
        "colab": {
          "base_uri": "https://localhost:8080/",
          "height": 205
        },
        "id": "VHCSx6r6i7VG",
        "outputId": "d6aecf8d-3a99-455c-c845-d6d1f3ae4111"
      },
      "source": [
        "# creating a new column in df1 with the specifications\n",
        "df1['count_words']= df1['content'].str.count(' ') + 1\n",
        "\n",
        "# checking the head for the created column\n",
        "df1[['count_words','content']].head()"
      ],
      "execution_count": 110,
      "outputs": [
        {
          "output_type": "execute_result",
          "data": {
            "text/html": [
              "<div>\n",
              "<style scoped>\n",
              "    .dataframe tbody tr th:only-of-type {\n",
              "        vertical-align: middle;\n",
              "    }\n",
              "\n",
              "    .dataframe tbody tr th {\n",
              "        vertical-align: top;\n",
              "    }\n",
              "\n",
              "    .dataframe thead th {\n",
              "        text-align: right;\n",
              "    }\n",
              "</style>\n",
              "<table border=\"1\" class=\"dataframe\">\n",
              "  <thead>\n",
              "    <tr style=\"text-align: right;\">\n",
              "      <th></th>\n",
              "      <th>count_words</th>\n",
              "      <th>content</th>\n",
              "    </tr>\n",
              "  </thead>\n",
              "  <tbody>\n",
              "    <tr>\n",
              "      <th>0</th>\n",
              "      <td>1432</td>\n",
              "      <td>“Trip-hop” eventually became a ’90s punchline,...</td>\n",
              "    </tr>\n",
              "    <tr>\n",
              "      <th>1</th>\n",
              "      <td>416</td>\n",
              "      <td>Eight years, five albums, and two EPs in, the ...</td>\n",
              "    </tr>\n",
              "    <tr>\n",
              "      <th>2</th>\n",
              "      <td>589</td>\n",
              "      <td>Minneapolis’ Uranium Club seem to revel in bei...</td>\n",
              "    </tr>\n",
              "    <tr>\n",
              "      <th>3</th>\n",
              "      <td>1155</td>\n",
              "      <td>Kleenex began with a crash. It transpired one ...</td>\n",
              "    </tr>\n",
              "    <tr>\n",
              "      <th>4</th>\n",
              "      <td>526</td>\n",
              "      <td>It is impossible to consider a given release b...</td>\n",
              "    </tr>\n",
              "  </tbody>\n",
              "</table>\n",
              "</div>"
            ],
            "text/plain": [
              "   count_words                                            content\n",
              "0         1432  “Trip-hop” eventually became a ’90s punchline,...\n",
              "1          416  Eight years, five albums, and two EPs in, the ...\n",
              "2          589  Minneapolis’ Uranium Club seem to revel in bei...\n",
              "3         1155  Kleenex began with a crash. It transpired one ...\n",
              "4          526  It is impossible to consider a given release b..."
            ]
          },
          "metadata": {},
          "execution_count": 110
        }
      ]
    },
    {
      "cell_type": "markdown",
      "metadata": {
        "id": "Fb0rSZ4hk-BI"
      },
      "source": [
        "##### e) Create a column containing the sentiment score of the review. Treat the review as a single string and take the TextBlob polarity score."
      ]
    },
    {
      "cell_type": "code",
      "metadata": {
        "id": "25xEBJLAlHpV"
      },
      "source": [
        "# Polarity score for the content column using textblob\n",
        "from textblob import TextBlob\n",
        "df1['polarity']= df1['content'].apply(lambda content: TextBlob(content).sentiment.polarity)"
      ],
      "execution_count": 111,
      "outputs": []
    },
    {
      "cell_type": "code",
      "metadata": {
        "colab": {
          "base_uri": "https://localhost:8080/",
          "height": 205
        },
        "id": "7CmE73JAojSu",
        "outputId": "98278e04-a7fe-45b5-c0ff-c744d35cb63f"
      },
      "source": [
        "# drop columns that wont be needed for the next step\n",
        "# basesd on the b part in the modeling question, I will be dropping the columns\n",
        "# that are not needed and saving it to another dataframe\n",
        "\n",
        "final= df1.drop(['reviewid',\n",
        "                 'title',\n",
        "                 'artist_x',\n",
        "                 'url',\n",
        "                 'score',\n",
        "                 'pub_date',\n",
        "                 'pub_weekday',\n",
        "                 'pub_day',\n",
        "                 'pub_month',\n",
        "                 'pub_year',\n",
        "                 'genre',\n",
        "                 'artist_y',\n",
        "                 'label',\n",
        "                 'content'], axis= 1)\n",
        "\n",
        "# check final df\n",
        "final.head()"
      ],
      "execution_count": 112,
      "outputs": [
        {
          "output_type": "execute_result",
          "data": {
            "text/html": [
              "<div>\n",
              "<style scoped>\n",
              "    .dataframe tbody tr th:only-of-type {\n",
              "        vertical-align: middle;\n",
              "    }\n",
              "\n",
              "    .dataframe tbody tr th {\n",
              "        vertical-align: top;\n",
              "    }\n",
              "\n",
              "    .dataframe thead th {\n",
              "        text-align: right;\n",
              "    }\n",
              "</style>\n",
              "<table border=\"1\" class=\"dataframe\">\n",
              "  <thead>\n",
              "    <tr style=\"text-align: right;\">\n",
              "      <th></th>\n",
              "      <th>best_new_music</th>\n",
              "      <th>author</th>\n",
              "      <th>author_type</th>\n",
              "      <th>year</th>\n",
              "      <th>global</th>\n",
              "      <th>experimental</th>\n",
              "      <th>electronic</th>\n",
              "      <th>pop</th>\n",
              "      <th>rap</th>\n",
              "      <th>jazz</th>\n",
              "      <th>r&amp;b</th>\n",
              "      <th>country</th>\n",
              "      <th>metal</th>\n",
              "      <th>rock</th>\n",
              "      <th>folk</th>\n",
              "      <th>count_words</th>\n",
              "      <th>polarity</th>\n",
              "    </tr>\n",
              "  </thead>\n",
              "  <tbody>\n",
              "    <tr>\n",
              "      <th>0</th>\n",
              "      <td>0</td>\n",
              "      <td>nate patrin</td>\n",
              "      <td>contributor</td>\n",
              "      <td>1998.0</td>\n",
              "      <td>0</td>\n",
              "      <td>0</td>\n",
              "      <td>1</td>\n",
              "      <td>0</td>\n",
              "      <td>0</td>\n",
              "      <td>0</td>\n",
              "      <td>0</td>\n",
              "      <td>0</td>\n",
              "      <td>0</td>\n",
              "      <td>0</td>\n",
              "      <td>0</td>\n",
              "      <td>1432</td>\n",
              "      <td>0.097281</td>\n",
              "    </tr>\n",
              "    <tr>\n",
              "      <th>1</th>\n",
              "      <td>0</td>\n",
              "      <td>zoe camp</td>\n",
              "      <td>contributor</td>\n",
              "      <td>2016.0</td>\n",
              "      <td>0</td>\n",
              "      <td>0</td>\n",
              "      <td>0</td>\n",
              "      <td>0</td>\n",
              "      <td>0</td>\n",
              "      <td>0</td>\n",
              "      <td>0</td>\n",
              "      <td>0</td>\n",
              "      <td>1</td>\n",
              "      <td>0</td>\n",
              "      <td>0</td>\n",
              "      <td>416</td>\n",
              "      <td>0.041640</td>\n",
              "    </tr>\n",
              "    <tr>\n",
              "      <th>2</th>\n",
              "      <td>0</td>\n",
              "      <td>david glickman</td>\n",
              "      <td>contributor</td>\n",
              "      <td>2016.0</td>\n",
              "      <td>0</td>\n",
              "      <td>0</td>\n",
              "      <td>0</td>\n",
              "      <td>0</td>\n",
              "      <td>0</td>\n",
              "      <td>0</td>\n",
              "      <td>0</td>\n",
              "      <td>0</td>\n",
              "      <td>0</td>\n",
              "      <td>1</td>\n",
              "      <td>0</td>\n",
              "      <td>589</td>\n",
              "      <td>0.123304</td>\n",
              "    </tr>\n",
              "    <tr>\n",
              "      <th>3</th>\n",
              "      <td>1</td>\n",
              "      <td>jenn pelly</td>\n",
              "      <td>associate reviews editor</td>\n",
              "      <td>2016.0</td>\n",
              "      <td>0</td>\n",
              "      <td>0</td>\n",
              "      <td>0</td>\n",
              "      <td>0</td>\n",
              "      <td>0</td>\n",
              "      <td>0</td>\n",
              "      <td>0</td>\n",
              "      <td>0</td>\n",
              "      <td>0</td>\n",
              "      <td>1</td>\n",
              "      <td>0</td>\n",
              "      <td>1155</td>\n",
              "      <td>0.161576</td>\n",
              "    </tr>\n",
              "    <tr>\n",
              "      <th>4</th>\n",
              "      <td>0</td>\n",
              "      <td>kevin lozano</td>\n",
              "      <td>tracks coordinator</td>\n",
              "      <td>2016.0</td>\n",
              "      <td>0</td>\n",
              "      <td>0</td>\n",
              "      <td>1</td>\n",
              "      <td>0</td>\n",
              "      <td>0</td>\n",
              "      <td>0</td>\n",
              "      <td>0</td>\n",
              "      <td>0</td>\n",
              "      <td>0</td>\n",
              "      <td>0</td>\n",
              "      <td>0</td>\n",
              "      <td>526</td>\n",
              "      <td>0.193729</td>\n",
              "    </tr>\n",
              "  </tbody>\n",
              "</table>\n",
              "</div>"
            ],
            "text/plain": [
              "   best_new_music          author  ... count_words  polarity\n",
              "0               0     nate patrin  ...        1432  0.097281\n",
              "1               0        zoe camp  ...         416  0.041640\n",
              "2               0  david glickman  ...         589  0.123304\n",
              "3               1      jenn pelly  ...        1155  0.161576\n",
              "4               0    kevin lozano  ...         526  0.193729\n",
              "\n",
              "[5 rows x 17 columns]"
            ]
          },
          "metadata": {},
          "execution_count": 112
        }
      ]
    },
    {
      "cell_type": "markdown",
      "metadata": {
        "id": "_rZSE9GroYHJ"
      },
      "source": [
        "## Logisitic Regression"
      ]
    },
    {
      "cell_type": "markdown",
      "metadata": {
        "id": "iiNfyjAtobVK"
      },
      "source": [
        "##### a) Scale all non-categorical variables as needed."
      ]
    },
    {
      "cell_type": "code",
      "metadata": {
        "colab": {
          "base_uri": "https://localhost:8080/",
          "height": 205
        },
        "id": "mL11rVZI_qMJ",
        "outputId": "7555d5ac-1110-4c24-ee8b-4b1038ef8ece"
      },
      "source": [
        "# all columns except author and author_type has to be transformed\n",
        "# variable indicating genres would not be scaled\n",
        "# year is an ordinal variable and does not need to be scaled\n",
        "# count_words and polarity are the two columns that need to scaled\n",
        "# using min-max scaler\n",
        "\n",
        "# import the scaler\n",
        "from sklearn.preprocessing import MinMaxScaler\n",
        "scaler= MinMaxScaler()\n",
        "\n",
        "# fit the scaler\n",
        "final[['count_words', 'polarity']]= scaler.fit_transform(final[['count_words', 'polarity']])\n",
        "\n",
        "# check the 2 columns\n",
        "final[['count_words', 'polarity']].head()"
      ],
      "execution_count": 113,
      "outputs": [
        {
          "output_type": "execute_result",
          "data": {
            "text/html": [
              "<div>\n",
              "<style scoped>\n",
              "    .dataframe tbody tr th:only-of-type {\n",
              "        vertical-align: middle;\n",
              "    }\n",
              "\n",
              "    .dataframe tbody tr th {\n",
              "        vertical-align: top;\n",
              "    }\n",
              "\n",
              "    .dataframe thead th {\n",
              "        text-align: right;\n",
              "    }\n",
              "</style>\n",
              "<table border=\"1\" class=\"dataframe\">\n",
              "  <thead>\n",
              "    <tr style=\"text-align: right;\">\n",
              "      <th></th>\n",
              "      <th>count_words</th>\n",
              "      <th>polarity</th>\n",
              "    </tr>\n",
              "  </thead>\n",
              "  <tbody>\n",
              "    <tr>\n",
              "      <th>0</th>\n",
              "      <td>0.389176</td>\n",
              "      <td>0.509695</td>\n",
              "    </tr>\n",
              "    <tr>\n",
              "      <th>1</th>\n",
              "      <td>0.112864</td>\n",
              "      <td>0.405004</td>\n",
              "    </tr>\n",
              "    <tr>\n",
              "      <th>2</th>\n",
              "      <td>0.159913</td>\n",
              "      <td>0.558658</td>\n",
              "    </tr>\n",
              "    <tr>\n",
              "      <th>3</th>\n",
              "      <td>0.313843</td>\n",
              "      <td>0.630668</td>\n",
              "    </tr>\n",
              "    <tr>\n",
              "      <th>4</th>\n",
              "      <td>0.142779</td>\n",
              "      <td>0.691164</td>\n",
              "    </tr>\n",
              "  </tbody>\n",
              "</table>\n",
              "</div>"
            ],
            "text/plain": [
              "   count_words  polarity\n",
              "0     0.389176  0.509695\n",
              "1     0.112864  0.405004\n",
              "2     0.159913  0.558658\n",
              "3     0.313843  0.630668\n",
              "4     0.142779  0.691164"
            ]
          },
          "metadata": {},
          "execution_count": 113
        }
      ]
    },
    {
      "cell_type": "markdown",
      "metadata": {
        "id": "Dw8vvpMP9a3F"
      },
      "source": [
        "##### b) Perform your logistic regression model using the statsmodel library (https://www.pythonfordatascience.org/logistic-regression-python/ ). Treat the best new music variable as your dependent variable and use the release year, word count, sentiment, all genre binary variables, author, and author role as your independent variables. "
      ]
    },
    {
      "cell_type": "code",
      "metadata": {
        "colab": {
          "base_uri": "https://localhost:8080/"
        },
        "id": "RvA410tKRVMj",
        "outputId": "42709617-fee3-41e7-aead-a3c34f3826c2"
      },
      "source": [
        "final.info()"
      ],
      "execution_count": 114,
      "outputs": [
        {
          "output_type": "stream",
          "name": "stdout",
          "text": [
            "<class 'pandas.core.frame.DataFrame'>\n",
            "Int64Index: 12350 entries, 0 to 18382\n",
            "Data columns (total 17 columns):\n",
            " #   Column          Non-Null Count  Dtype  \n",
            "---  ------          --------------  -----  \n",
            " 0   best_new_music  12350 non-null  int64  \n",
            " 1   author          12350 non-null  object \n",
            " 2   author_type     12350 non-null  object \n",
            " 3   year            12350 non-null  float64\n",
            " 4   global          12350 non-null  int64  \n",
            " 5   experimental    12350 non-null  int64  \n",
            " 6   electronic      12350 non-null  int64  \n",
            " 7   pop             12350 non-null  int64  \n",
            " 8   rap             12350 non-null  int64  \n",
            " 9   jazz            12350 non-null  int64  \n",
            " 10  r&b             12350 non-null  int64  \n",
            " 11  country         12350 non-null  int64  \n",
            " 12  metal           12350 non-null  int64  \n",
            " 13  rock            12350 non-null  int64  \n",
            " 14  folk            12350 non-null  int64  \n",
            " 15  count_words     12350 non-null  float64\n",
            " 16  polarity        12350 non-null  float64\n",
            "dtypes: float64(3), int64(12), object(2)\n",
            "memory usage: 2.0+ MB\n"
          ]
        }
      ]
    },
    {
      "cell_type": "code",
      "metadata": {
        "id": "LVHuXKrARopS"
      },
      "source": [
        "# make all the categorical columns as object type\n",
        "# and reset column index\n",
        "cols= final.columns[1:15]\n",
        "final[cols]= final[cols].astype(str)\n",
        "final.reset_index(inplace= True)"
      ],
      "execution_count": 115,
      "outputs": []
    },
    {
      "cell_type": "code",
      "metadata": {
        "colab": {
          "base_uri": "https://localhost:8080/"
        },
        "id": "QhRjwI8Bd26P",
        "outputId": "01a1f54e-00bc-4610-f902-11c37fd63df9"
      },
      "source": [
        "y= final['best_new_music']\n",
        "x= final.drop('best_new_music', axis= 1)\n",
        "\n",
        "print(y.shape, x.shape)"
      ],
      "execution_count": 116,
      "outputs": [
        {
          "output_type": "stream",
          "name": "stdout",
          "text": [
            "(12350,) (12350, 17)\n"
          ]
        }
      ]
    },
    {
      "cell_type": "code",
      "metadata": {
        "colab": {
          "base_uri": "https://localhost:8080/"
        },
        "id": "1PTCtyytGHS2",
        "outputId": "e38bf286-cff6-4850-ae6c-0475be17d543"
      },
      "source": [
        "final.columns"
      ],
      "execution_count": 117,
      "outputs": [
        {
          "output_type": "execute_result",
          "data": {
            "text/plain": [
              "Index(['index', 'best_new_music', 'author', 'author_type', 'year', 'global',\n",
              "       'experimental', 'electronic', 'pop', 'rap', 'jazz', 'r&b', 'country',\n",
              "       'metal', 'rock', 'folk', 'count_words', 'polarity'],\n",
              "      dtype='object')"
            ]
          },
          "metadata": {},
          "execution_count": 117
        }
      ]
    },
    {
      "cell_type": "code",
      "metadata": {
        "id": "T7k7WitA9fSV",
        "colab": {
          "base_uri": "https://localhost:8080/",
          "height": 656
        },
        "outputId": "839ac884-f8ab-414e-aef3-8e93c58560c5"
      },
      "source": [
        "# import the package\n",
        "import statsmodels.formula.api as smf\n",
        "\n",
        "# renaming the column r&b as rnb\n",
        "final['rnb']= final['r&b']\n",
        "\n",
        "# create and fit model\n",
        "# not taking global as it has almost no best_new_music as a 1\n",
        "model = smf.logit(\"best_new_music ~ count_words + polarity + C(author_type)\" \n",
        "                  , data= final).fit()\n",
        "\n",
        "# \"+ C(author) + C(year) + C(experimental) + C(electronic)\" \n",
        "# \"+ C(pop) + C(rap) + C(jazz) + C(country) + C(metal)\" \n",
        "# \"+ C(rock) + C(folk) + C(rnb)\"\n",
        "\n",
        "# check model summary\n",
        "model.summary()"
      ],
      "execution_count": 119,
      "outputs": [
        {
          "output_type": "stream",
          "name": "stdout",
          "text": [
            "Warning: Maximum number of iterations has been exceeded.\n",
            "         Current function value: 0.213267\n",
            "         Iterations: 35\n"
          ]
        },
        {
          "output_type": "stream",
          "name": "stderr",
          "text": [
            "/usr/local/lib/python3.7/dist-packages/statsmodels/base/model.py:512: ConvergenceWarning: Maximum Likelihood optimization failed to converge. Check mle_retvals\n",
            "  \"Check mle_retvals\", ConvergenceWarning)\n"
          ]
        },
        {
          "output_type": "execute_result",
          "data": {
            "text/html": [
              "<table class=\"simpletable\">\n",
              "<caption>Logit Regression Results</caption>\n",
              "<tr>\n",
              "  <th>Dep. Variable:</th>    <td>best_new_music</td>  <th>  No. Observations:  </th>   <td> 12350</td>  \n",
              "</tr>\n",
              "<tr>\n",
              "  <th>Model:</th>                 <td>Logit</td>      <th>  Df Residuals:      </th>   <td> 12333</td>  \n",
              "</tr>\n",
              "<tr>\n",
              "  <th>Method:</th>                 <td>MLE</td>       <th>  Df Model:          </th>   <td>    16</td>  \n",
              "</tr>\n",
              "<tr>\n",
              "  <th>Date:</th>            <td>Wed, 03 Nov 2021</td> <th>  Pseudo R-squ.:     </th>   <td>0.1365</td>  \n",
              "</tr>\n",
              "<tr>\n",
              "  <th>Time:</th>                <td>19:31:22</td>     <th>  Log-Likelihood:    </th>  <td> -2633.8</td> \n",
              "</tr>\n",
              "<tr>\n",
              "  <th>converged:</th>             <td>False</td>      <th>  LL-Null:           </th>  <td> -3050.3</td> \n",
              "</tr>\n",
              "<tr>\n",
              "  <th>Covariance Type:</th>     <td>nonrobust</td>    <th>  LLR p-value:       </th> <td>5.775e-167</td>\n",
              "</tr>\n",
              "</table>\n",
              "<table class=\"simpletable\">\n",
              "<tr>\n",
              "                       <td></td>                          <th>coef</th>     <th>std err</th>      <th>z</th>      <th>P>|z|</th>  <th>[0.025</th>    <th>0.975]</th>  \n",
              "</tr>\n",
              "<tr>\n",
              "  <th>Intercept</th>                                   <td>   -5.1645</td> <td>    0.912</td> <td>   -5.665</td> <td> 0.000</td> <td>   -6.951</td> <td>   -3.378</td>\n",
              "</tr>\n",
              "<tr>\n",
              "  <th>C(author_type)[T.associate editor]</th>          <td>  -25.7191</td> <td> 2.35e+05</td> <td>   -0.000</td> <td> 1.000</td> <td> -4.6e+05</td> <td>  4.6e+05</td>\n",
              "</tr>\n",
              "<tr>\n",
              "  <th>C(author_type)[T.associate features editor]</th> <td>    0.3321</td> <td>    1.381</td> <td>    0.241</td> <td> 0.810</td> <td>   -2.374</td> <td>    3.038</td>\n",
              "</tr>\n",
              "<tr>\n",
              "  <th>C(author_type)[T.associate reviews editor]</th>  <td>    0.8959</td> <td>    0.969</td> <td>    0.924</td> <td> 0.355</td> <td>   -1.004</td> <td>    2.796</td>\n",
              "</tr>\n",
              "<tr>\n",
              "  <th>C(author_type)[T.associate staff writer]</th>    <td>   -1.1849</td> <td>    1.067</td> <td>   -1.111</td> <td> 0.267</td> <td>   -3.276</td> <td>    0.906</td>\n",
              "</tr>\n",
              "<tr>\n",
              "  <th>C(author_type)[T.contributing editor]</th>       <td>   -0.3483</td> <td>    0.924</td> <td>   -0.377</td> <td> 0.706</td> <td>   -2.158</td> <td>    1.462</td>\n",
              "</tr>\n",
              "<tr>\n",
              "  <th>C(author_type)[T.contributor]</th>               <td>   -0.6100</td> <td>    0.883</td> <td>   -0.691</td> <td> 0.490</td> <td>   -2.340</td> <td>    1.120</td>\n",
              "</tr>\n",
              "<tr>\n",
              "  <th>C(author_type)[T.deputy news editor]</th>        <td>   -0.9565</td> <td>    1.100</td> <td>   -0.869</td> <td> 0.385</td> <td>   -3.113</td> <td>    1.200</td>\n",
              "</tr>\n",
              "<tr>\n",
              "  <th>C(author_type)[T.editor-in-chief]</th>           <td>   -0.2631</td> <td>    0.981</td> <td>   -0.268</td> <td> 0.789</td> <td>   -2.186</td> <td>    1.659</td>\n",
              "</tr>\n",
              "<tr>\n",
              "  <th>C(author_type)[T.executive editor]</th>          <td>    0.5721</td> <td>    0.892</td> <td>    0.642</td> <td> 0.521</td> <td>   -1.175</td> <td>    2.319</td>\n",
              "</tr>\n",
              "<tr>\n",
              "  <th>C(author_type)[T.managing editor]</th>           <td>    2.1370</td> <td>    1.510</td> <td>    1.415</td> <td> 0.157</td> <td>   -0.823</td> <td>    5.097</td>\n",
              "</tr>\n",
              "<tr>\n",
              "  <th>C(author_type)[T.news director]</th>             <td>    0.7950</td> <td>    1.477</td> <td>    0.538</td> <td> 0.590</td> <td>   -2.099</td> <td>    3.689</td>\n",
              "</tr>\n",
              "<tr>\n",
              "  <th>C(author_type)[T.senior editor]</th>             <td>    0.5051</td> <td>    0.893</td> <td>    0.566</td> <td> 0.571</td> <td>   -1.244</td> <td>    2.255</td>\n",
              "</tr>\n",
              "<tr>\n",
              "  <th>C(author_type)[T.senior staff writer]</th>       <td>   -0.2536</td> <td>    0.907</td> <td>   -0.280</td> <td> 0.780</td> <td>   -2.031</td> <td>    1.523</td>\n",
              "</tr>\n",
              "<tr>\n",
              "  <th>C(author_type)[T.tracks coordinator]</th>        <td>   -0.2386</td> <td>    1.066</td> <td>   -0.224</td> <td> 0.823</td> <td>   -2.328</td> <td>    1.851</td>\n",
              "</tr>\n",
              "<tr>\n",
              "  <th>count_words</th>                                 <td>   10.2629</td> <td>    0.416</td> <td>   24.693</td> <td> 0.000</td> <td>    9.448</td> <td>   11.078</td>\n",
              "</tr>\n",
              "<tr>\n",
              "  <th>polarity</th>                                    <td>    1.3610</td> <td>    0.385</td> <td>    3.536</td> <td> 0.000</td> <td>    0.607</td> <td>    2.115</td>\n",
              "</tr>\n",
              "</table>"
            ],
            "text/plain": [
              "<class 'statsmodels.iolib.summary.Summary'>\n",
              "\"\"\"\n",
              "                           Logit Regression Results                           \n",
              "==============================================================================\n",
              "Dep. Variable:         best_new_music   No. Observations:                12350\n",
              "Model:                          Logit   Df Residuals:                    12333\n",
              "Method:                           MLE   Df Model:                           16\n",
              "Date:                Wed, 03 Nov 2021   Pseudo R-squ.:                  0.1365\n",
              "Time:                        19:31:22   Log-Likelihood:                -2633.8\n",
              "converged:                      False   LL-Null:                       -3050.3\n",
              "Covariance Type:            nonrobust   LLR p-value:                5.775e-167\n",
              "===============================================================================================================\n",
              "                                                  coef    std err          z      P>|z|      [0.025      0.975]\n",
              "---------------------------------------------------------------------------------------------------------------\n",
              "Intercept                                      -5.1645      0.912     -5.665      0.000      -6.951      -3.378\n",
              "C(author_type)[T.associate editor]            -25.7191   2.35e+05     -0.000      1.000    -4.6e+05     4.6e+05\n",
              "C(author_type)[T.associate features editor]     0.3321      1.381      0.241      0.810      -2.374       3.038\n",
              "C(author_type)[T.associate reviews editor]      0.8959      0.969      0.924      0.355      -1.004       2.796\n",
              "C(author_type)[T.associate staff writer]       -1.1849      1.067     -1.111      0.267      -3.276       0.906\n",
              "C(author_type)[T.contributing editor]          -0.3483      0.924     -0.377      0.706      -2.158       1.462\n",
              "C(author_type)[T.contributor]                  -0.6100      0.883     -0.691      0.490      -2.340       1.120\n",
              "C(author_type)[T.deputy news editor]           -0.9565      1.100     -0.869      0.385      -3.113       1.200\n",
              "C(author_type)[T.editor-in-chief]              -0.2631      0.981     -0.268      0.789      -2.186       1.659\n",
              "C(author_type)[T.executive editor]              0.5721      0.892      0.642      0.521      -1.175       2.319\n",
              "C(author_type)[T.managing editor]               2.1370      1.510      1.415      0.157      -0.823       5.097\n",
              "C(author_type)[T.news director]                 0.7950      1.477      0.538      0.590      -2.099       3.689\n",
              "C(author_type)[T.senior editor]                 0.5051      0.893      0.566      0.571      -1.244       2.255\n",
              "C(author_type)[T.senior staff writer]          -0.2536      0.907     -0.280      0.780      -2.031       1.523\n",
              "C(author_type)[T.tracks coordinator]           -0.2386      1.066     -0.224      0.823      -2.328       1.851\n",
              "count_words                                    10.2629      0.416     24.693      0.000       9.448      11.078\n",
              "polarity                                        1.3610      0.385      3.536      0.000       0.607       2.115\n",
              "===============================================================================================================\n",
              "\"\"\""
            ]
          },
          "metadata": {},
          "execution_count": 119
        }
      ]
    },
    {
      "cell_type": "code",
      "metadata": {
        "colab": {
          "base_uri": "https://localhost:8080/",
          "height": 868
        },
        "id": "9YBuL538sVzt",
        "outputId": "d317bfd7-bdfc-4c73-d89b-bebb72c59d64"
      },
      "source": [
        "# create and fit model\n",
        "# not taking global as it has almost no best_new_music as a 1\n",
        "model2 = smf.logit(\"best_new_music ~ count_words + polarity + C(author_type)\" \n",
        "                   \"+ C(experimental) + C(electronic) + C(pop) + C(rap) \"\n",
        "                   \"+ C(jazz) + C(country) + C(metal) + C(rock) + C(folk) + C(rnb)\" \n",
        "                  , data= final).fit()\n",
        "\n",
        "# \"+ C(author) + C(year) \n",
        "# the above 2 have too many categories, and therefore \n",
        "# the model is unable to converge\n",
        "\n",
        "# check model summary\n",
        "model2.summary()"
      ],
      "execution_count": 123,
      "outputs": [
        {
          "output_type": "stream",
          "name": "stdout",
          "text": [
            "Warning: Maximum number of iterations has been exceeded.\n",
            "         Current function value: 0.212700\n",
            "         Iterations: 35\n"
          ]
        },
        {
          "output_type": "stream",
          "name": "stderr",
          "text": [
            "/usr/local/lib/python3.7/dist-packages/statsmodels/base/model.py:512: ConvergenceWarning: Maximum Likelihood optimization failed to converge. Check mle_retvals\n",
            "  \"Check mle_retvals\", ConvergenceWarning)\n"
          ]
        },
        {
          "output_type": "execute_result",
          "data": {
            "text/html": [
              "<table class=\"simpletable\">\n",
              "<caption>Logit Regression Results</caption>\n",
              "<tr>\n",
              "  <th>Dep. Variable:</th>    <td>best_new_music</td>  <th>  No. Observations:  </th>   <td> 12350</td>  \n",
              "</tr>\n",
              "<tr>\n",
              "  <th>Model:</th>                 <td>Logit</td>      <th>  Df Residuals:      </th>   <td> 12325</td>  \n",
              "</tr>\n",
              "<tr>\n",
              "  <th>Method:</th>                 <td>MLE</td>       <th>  Df Model:          </th>   <td>    24</td>  \n",
              "</tr>\n",
              "<tr>\n",
              "  <th>Date:</th>            <td>Wed, 03 Nov 2021</td> <th>  Pseudo R-squ.:     </th>   <td>0.1388</td>  \n",
              "</tr>\n",
              "<tr>\n",
              "  <th>Time:</th>                <td>21:26:52</td>     <th>  Log-Likelihood:    </th>  <td> -2626.8</td> \n",
              "</tr>\n",
              "<tr>\n",
              "  <th>converged:</th>             <td>False</td>      <th>  LL-Null:           </th>  <td> -3050.3</td> \n",
              "</tr>\n",
              "<tr>\n",
              "  <th>Covariance Type:</th>     <td>nonrobust</td>    <th>  LLR p-value:       </th> <td>2.435e-163</td>\n",
              "</tr>\n",
              "</table>\n",
              "<table class=\"simpletable\">\n",
              "<tr>\n",
              "                       <td></td>                          <th>coef</th>     <th>std err</th>      <th>z</th>      <th>P>|z|</th>  <th>[0.025</th>    <th>0.975]</th>  \n",
              "</tr>\n",
              "<tr>\n",
              "  <th>Intercept</th>                                   <td>   -5.5378</td> <td>    1.004</td> <td>   -5.518</td> <td> 0.000</td> <td>   -7.505</td> <td>   -3.571</td>\n",
              "</tr>\n",
              "<tr>\n",
              "  <th>C(author_type)[T.associate editor]</th>          <td>  -18.1748</td> <td> 5786.874</td> <td>   -0.003</td> <td> 0.997</td> <td>-1.14e+04</td> <td> 1.13e+04</td>\n",
              "</tr>\n",
              "<tr>\n",
              "  <th>C(author_type)[T.associate features editor]</th> <td>    0.3871</td> <td>    1.379</td> <td>    0.281</td> <td> 0.779</td> <td>   -2.316</td> <td>    3.090</td>\n",
              "</tr>\n",
              "<tr>\n",
              "  <th>C(author_type)[T.associate reviews editor]</th>  <td>    0.9260</td> <td>    0.969</td> <td>    0.956</td> <td> 0.339</td> <td>   -0.972</td> <td>    2.824</td>\n",
              "</tr>\n",
              "<tr>\n",
              "  <th>C(author_type)[T.associate staff writer]</th>    <td>   -0.9427</td> <td>    1.069</td> <td>   -0.882</td> <td> 0.378</td> <td>   -3.038</td> <td>    1.153</td>\n",
              "</tr>\n",
              "<tr>\n",
              "  <th>C(author_type)[T.contributing editor]</th>       <td>   -0.3825</td> <td>    0.926</td> <td>   -0.413</td> <td> 0.680</td> <td>   -2.198</td> <td>    1.433</td>\n",
              "</tr>\n",
              "<tr>\n",
              "  <th>C(author_type)[T.contributor]</th>               <td>   -0.5431</td> <td>    0.881</td> <td>   -0.617</td> <td> 0.537</td> <td>   -2.270</td> <td>    1.183</td>\n",
              "</tr>\n",
              "<tr>\n",
              "  <th>C(author_type)[T.deputy news editor]</th>        <td>   -0.9000</td> <td>    1.100</td> <td>   -0.818</td> <td> 0.413</td> <td>   -3.056</td> <td>    1.257</td>\n",
              "</tr>\n",
              "<tr>\n",
              "  <th>C(author_type)[T.editor-in-chief]</th>           <td>   -0.2285</td> <td>    0.979</td> <td>   -0.233</td> <td> 0.816</td> <td>   -2.148</td> <td>    1.691</td>\n",
              "</tr>\n",
              "<tr>\n",
              "  <th>C(author_type)[T.executive editor]</th>          <td>    0.5976</td> <td>    0.891</td> <td>    0.671</td> <td> 0.502</td> <td>   -1.148</td> <td>    2.343</td>\n",
              "</tr>\n",
              "<tr>\n",
              "  <th>C(author_type)[T.managing editor]</th>           <td>    2.0918</td> <td>    1.510</td> <td>    1.385</td> <td> 0.166</td> <td>   -0.868</td> <td>    5.052</td>\n",
              "</tr>\n",
              "<tr>\n",
              "  <th>C(author_type)[T.news director]</th>             <td>    0.8523</td> <td>    1.476</td> <td>    0.577</td> <td> 0.564</td> <td>   -2.041</td> <td>    3.745</td>\n",
              "</tr>\n",
              "<tr>\n",
              "  <th>C(author_type)[T.senior editor]</th>             <td>    0.6204</td> <td>    0.891</td> <td>    0.696</td> <td> 0.486</td> <td>   -1.127</td> <td>    2.367</td>\n",
              "</tr>\n",
              "<tr>\n",
              "  <th>C(author_type)[T.senior staff writer]</th>       <td>   -0.2171</td> <td>    0.904</td> <td>   -0.240</td> <td> 0.810</td> <td>   -1.990</td> <td>    1.556</td>\n",
              "</tr>\n",
              "<tr>\n",
              "  <th>C(author_type)[T.tracks coordinator]</th>        <td>   -0.2519</td> <td>    1.067</td> <td>   -0.236</td> <td> 0.813</td> <td>   -2.344</td> <td>    1.840</td>\n",
              "</tr>\n",
              "<tr>\n",
              "  <th>C(experimental)[T.1]</th>                        <td>    0.5323</td> <td>    0.453</td> <td>    1.176</td> <td> 0.240</td> <td>   -0.355</td> <td>    1.419</td>\n",
              "</tr>\n",
              "<tr>\n",
              "  <th>C(electronic)[T.1]</th>                          <td>    0.4116</td> <td>    0.432</td> <td>    0.953</td> <td> 0.341</td> <td>   -0.435</td> <td>    1.259</td>\n",
              "</tr>\n",
              "<tr>\n",
              "  <th>C(pop)[T.1]</th>                                 <td>    0.2974</td> <td> 9.66e+06</td> <td> 3.08e-08</td> <td> 1.000</td> <td>-1.89e+07</td> <td> 1.89e+07</td>\n",
              "</tr>\n",
              "<tr>\n",
              "  <th>C(rap)[T.1]</th>                                 <td>   -0.0058</td> <td>    0.441</td> <td>   -0.013</td> <td> 0.990</td> <td>   -0.870</td> <td>    0.859</td>\n",
              "</tr>\n",
              "<tr>\n",
              "  <th>C(jazz)[T.1]</th>                                <td>    0.0283</td> <td>    0.506</td> <td>    0.056</td> <td> 0.955</td> <td>   -0.964</td> <td>    1.020</td>\n",
              "</tr>\n",
              "<tr>\n",
              "  <th>C(country)[T.1]</th>                             <td>    0.0988</td> <td> 1.93e+07</td> <td> 5.11e-09</td> <td> 1.000</td> <td>-3.79e+07</td> <td> 3.79e+07</td>\n",
              "</tr>\n",
              "<tr>\n",
              "  <th>C(metal)[T.1]</th>                               <td>    0.3473</td> <td>    0.497</td> <td>    0.699</td> <td> 0.485</td> <td>   -0.627</td> <td>    1.321</td>\n",
              "</tr>\n",
              "<tr>\n",
              "  <th>C(rock)[T.1]</th>                                <td>    0.3277</td> <td>    0.421</td> <td>    0.778</td> <td> 0.437</td> <td>   -0.498</td> <td>    1.153</td>\n",
              "</tr>\n",
              "<tr>\n",
              "  <th>C(folk)[T.1]</th>                                <td>    0.0988</td> <td> 1.93e+07</td> <td> 5.11e-09</td> <td> 1.000</td> <td>-3.79e+07</td> <td> 3.79e+07</td>\n",
              "</tr>\n",
              "<tr>\n",
              "  <th>C(rnb)[T.1]</th>                                 <td>    0.2974</td> <td> 9.66e+06</td> <td> 3.08e-08</td> <td> 1.000</td> <td>-1.89e+07</td> <td> 1.89e+07</td>\n",
              "</tr>\n",
              "<tr>\n",
              "  <th>count_words</th>                                 <td>   10.3761</td> <td>    0.421</td> <td>   24.637</td> <td> 0.000</td> <td>    9.551</td> <td>   11.202</td>\n",
              "</tr>\n",
              "<tr>\n",
              "  <th>polarity</th>                                    <td>    1.2868</td> <td>    0.387</td> <td>    3.321</td> <td> 0.001</td> <td>    0.527</td> <td>    2.046</td>\n",
              "</tr>\n",
              "</table>"
            ],
            "text/plain": [
              "<class 'statsmodels.iolib.summary.Summary'>\n",
              "\"\"\"\n",
              "                           Logit Regression Results                           \n",
              "==============================================================================\n",
              "Dep. Variable:         best_new_music   No. Observations:                12350\n",
              "Model:                          Logit   Df Residuals:                    12325\n",
              "Method:                           MLE   Df Model:                           24\n",
              "Date:                Wed, 03 Nov 2021   Pseudo R-squ.:                  0.1388\n",
              "Time:                        21:26:52   Log-Likelihood:                -2626.8\n",
              "converged:                      False   LL-Null:                       -3050.3\n",
              "Covariance Type:            nonrobust   LLR p-value:                2.435e-163\n",
              "===============================================================================================================\n",
              "                                                  coef    std err          z      P>|z|      [0.025      0.975]\n",
              "---------------------------------------------------------------------------------------------------------------\n",
              "Intercept                                      -5.5378      1.004     -5.518      0.000      -7.505      -3.571\n",
              "C(author_type)[T.associate editor]            -18.1748   5786.874     -0.003      0.997   -1.14e+04    1.13e+04\n",
              "C(author_type)[T.associate features editor]     0.3871      1.379      0.281      0.779      -2.316       3.090\n",
              "C(author_type)[T.associate reviews editor]      0.9260      0.969      0.956      0.339      -0.972       2.824\n",
              "C(author_type)[T.associate staff writer]       -0.9427      1.069     -0.882      0.378      -3.038       1.153\n",
              "C(author_type)[T.contributing editor]          -0.3825      0.926     -0.413      0.680      -2.198       1.433\n",
              "C(author_type)[T.contributor]                  -0.5431      0.881     -0.617      0.537      -2.270       1.183\n",
              "C(author_type)[T.deputy news editor]           -0.9000      1.100     -0.818      0.413      -3.056       1.257\n",
              "C(author_type)[T.editor-in-chief]              -0.2285      0.979     -0.233      0.816      -2.148       1.691\n",
              "C(author_type)[T.executive editor]              0.5976      0.891      0.671      0.502      -1.148       2.343\n",
              "C(author_type)[T.managing editor]               2.0918      1.510      1.385      0.166      -0.868       5.052\n",
              "C(author_type)[T.news director]                 0.8523      1.476      0.577      0.564      -2.041       3.745\n",
              "C(author_type)[T.senior editor]                 0.6204      0.891      0.696      0.486      -1.127       2.367\n",
              "C(author_type)[T.senior staff writer]          -0.2171      0.904     -0.240      0.810      -1.990       1.556\n",
              "C(author_type)[T.tracks coordinator]           -0.2519      1.067     -0.236      0.813      -2.344       1.840\n",
              "C(experimental)[T.1]                            0.5323      0.453      1.176      0.240      -0.355       1.419\n",
              "C(electronic)[T.1]                              0.4116      0.432      0.953      0.341      -0.435       1.259\n",
              "C(pop)[T.1]                                     0.2974   9.66e+06   3.08e-08      1.000   -1.89e+07    1.89e+07\n",
              "C(rap)[T.1]                                    -0.0058      0.441     -0.013      0.990      -0.870       0.859\n",
              "C(jazz)[T.1]                                    0.0283      0.506      0.056      0.955      -0.964       1.020\n",
              "C(country)[T.1]                                 0.0988   1.93e+07   5.11e-09      1.000   -3.79e+07    3.79e+07\n",
              "C(metal)[T.1]                                   0.3473      0.497      0.699      0.485      -0.627       1.321\n",
              "C(rock)[T.1]                                    0.3277      0.421      0.778      0.437      -0.498       1.153\n",
              "C(folk)[T.1]                                    0.0988   1.93e+07   5.11e-09      1.000   -3.79e+07    3.79e+07\n",
              "C(rnb)[T.1]                                     0.2974   9.66e+06   3.08e-08      1.000   -1.89e+07    1.89e+07\n",
              "count_words                                    10.3761      0.421     24.637      0.000       9.551      11.202\n",
              "polarity                                        1.2868      0.387      3.321      0.001       0.527       2.046\n",
              "===============================================================================================================\n",
              "\"\"\""
            ]
          },
          "metadata": {},
          "execution_count": 123
        }
      ]
    },
    {
      "cell_type": "markdown",
      "metadata": {
        "id": "oC0yfNYReoUR"
      },
      "source": [
        "##### c) Calculate the odds ratio for your independent variables"
      ]
    },
    {
      "cell_type": "code",
      "metadata": {
        "id": "VCgUqCFscCvz",
        "colab": {
          "base_uri": "https://localhost:8080/",
          "height": 615
        },
        "outputId": "ecbf4f1c-c30f-4199-8561-e93f451a234b"
      },
      "source": [
        "model_odds= pd.DataFrame(np.exp(model.params), columns= ['OR'])\n",
        "model_odds['z-value']= model.pvalues\n",
        "model_odds[['2.5%', '7.5%']]= np.exp(model.conf_int())\n",
        "\n",
        "model_odds"
      ],
      "execution_count": 121,
      "outputs": [
        {
          "output_type": "stream",
          "name": "stderr",
          "text": [
            "/usr/local/lib/python3.7/dist-packages/ipykernel_launcher.py:3: RuntimeWarning: overflow encountered in exp\n",
            "  This is separate from the ipykernel package so we can avoid doing imports until\n"
          ]
        },
        {
          "output_type": "execute_result",
          "data": {
            "text/html": [
              "<div>\n",
              "<style scoped>\n",
              "    .dataframe tbody tr th:only-of-type {\n",
              "        vertical-align: middle;\n",
              "    }\n",
              "\n",
              "    .dataframe tbody tr th {\n",
              "        vertical-align: top;\n",
              "    }\n",
              "\n",
              "    .dataframe thead th {\n",
              "        text-align: right;\n",
              "    }\n",
              "</style>\n",
              "<table border=\"1\" class=\"dataframe\">\n",
              "  <thead>\n",
              "    <tr style=\"text-align: right;\">\n",
              "      <th></th>\n",
              "      <th>OR</th>\n",
              "      <th>z-value</th>\n",
              "      <th>2.5%</th>\n",
              "      <th>7.5%</th>\n",
              "    </tr>\n",
              "  </thead>\n",
              "  <tbody>\n",
              "    <tr>\n",
              "      <th>Intercept</th>\n",
              "      <td>5.715695e-03</td>\n",
              "      <td>1.470332e-08</td>\n",
              "      <td>0.000957</td>\n",
              "      <td>3.412515e-02</td>\n",
              "    </tr>\n",
              "    <tr>\n",
              "      <th>C(author_type)[T.associate editor]</th>\n",
              "      <td>6.766251e-12</td>\n",
              "      <td>9.999126e-01</td>\n",
              "      <td>0.000000</td>\n",
              "      <td>inf</td>\n",
              "    </tr>\n",
              "    <tr>\n",
              "      <th>C(author_type)[T.associate features editor]</th>\n",
              "      <td>1.393901e+00</td>\n",
              "      <td>8.098909e-01</td>\n",
              "      <td>0.093140</td>\n",
              "      <td>2.086073e+01</td>\n",
              "    </tr>\n",
              "    <tr>\n",
              "      <th>C(author_type)[T.associate reviews editor]</th>\n",
              "      <td>2.449561e+00</td>\n",
              "      <td>3.553952e-01</td>\n",
              "      <td>0.366371</td>\n",
              "      <td>1.637781e+01</td>\n",
              "    </tr>\n",
              "    <tr>\n",
              "      <th>C(author_type)[T.associate staff writer]</th>\n",
              "      <td>3.057744e-01</td>\n",
              "      <td>2.667158e-01</td>\n",
              "      <td>0.037783</td>\n",
              "      <td>2.474615e+00</td>\n",
              "    </tr>\n",
              "    <tr>\n",
              "      <th>C(author_type)[T.contributing editor]</th>\n",
              "      <td>7.058638e-01</td>\n",
              "      <td>7.060446e-01</td>\n",
              "      <td>0.115506</td>\n",
              "      <td>4.313555e+00</td>\n",
              "    </tr>\n",
              "    <tr>\n",
              "      <th>C(author_type)[T.contributor]</th>\n",
              "      <td>5.433713e-01</td>\n",
              "      <td>4.895848e-01</td>\n",
              "      <td>0.096313</td>\n",
              "      <td>3.065535e+00</td>\n",
              "    </tr>\n",
              "    <tr>\n",
              "      <th>C(author_type)[T.deputy news editor]</th>\n",
              "      <td>3.842164e-01</td>\n",
              "      <td>3.846158e-01</td>\n",
              "      <td>0.044471</td>\n",
              "      <td>3.319540e+00</td>\n",
              "    </tr>\n",
              "    <tr>\n",
              "      <th>C(author_type)[T.editor-in-chief]</th>\n",
              "      <td>7.686940e-01</td>\n",
              "      <td>7.885551e-01</td>\n",
              "      <td>0.112413</td>\n",
              "      <td>5.256403e+00</td>\n",
              "    </tr>\n",
              "    <tr>\n",
              "      <th>C(author_type)[T.executive editor]</th>\n",
              "      <td>1.771930e+00</td>\n",
              "      <td>5.210982e-01</td>\n",
              "      <td>0.308712</td>\n",
              "      <td>1.017043e+01</td>\n",
              "    </tr>\n",
              "    <tr>\n",
              "      <th>C(author_type)[T.managing editor]</th>\n",
              "      <td>8.473799e+00</td>\n",
              "      <td>1.570803e-01</td>\n",
              "      <td>0.439066</td>\n",
              "      <td>1.635411e+02</td>\n",
              "    </tr>\n",
              "    <tr>\n",
              "      <th>C(author_type)[T.news director]</th>\n",
              "      <td>2.214436e+00</td>\n",
              "      <td>5.903017e-01</td>\n",
              "      <td>0.122569</td>\n",
              "      <td>4.000777e+01</td>\n",
              "    </tr>\n",
              "    <tr>\n",
              "      <th>C(author_type)[T.senior editor]</th>\n",
              "      <td>1.657186e+00</td>\n",
              "      <td>5.714651e-01</td>\n",
              "      <td>0.288127</td>\n",
              "      <td>9.531448e+00</td>\n",
              "    </tr>\n",
              "    <tr>\n",
              "      <th>C(author_type)[T.senior staff writer]</th>\n",
              "      <td>7.760107e-01</td>\n",
              "      <td>7.797085e-01</td>\n",
              "      <td>0.131258</td>\n",
              "      <td>4.587852e+00</td>\n",
              "    </tr>\n",
              "    <tr>\n",
              "      <th>C(author_type)[T.tracks coordinator]</th>\n",
              "      <td>7.877529e-01</td>\n",
              "      <td>8.229513e-01</td>\n",
              "      <td>0.097456</td>\n",
              "      <td>6.367525e+00</td>\n",
              "    </tr>\n",
              "    <tr>\n",
              "      <th>count_words</th>\n",
              "      <td>2.865037e+04</td>\n",
              "      <td>1.285794e-134</td>\n",
              "      <td>12686.648309</td>\n",
              "      <td>6.470139e+04</td>\n",
              "    </tr>\n",
              "    <tr>\n",
              "      <th>polarity</th>\n",
              "      <td>3.900037e+00</td>\n",
              "      <td>4.062768e-04</td>\n",
              "      <td>1.834187</td>\n",
              "      <td>8.292661e+00</td>\n",
              "    </tr>\n",
              "  </tbody>\n",
              "</table>\n",
              "</div>"
            ],
            "text/plain": [
              "                                                       OR  ...          7.5%\n",
              "Intercept                                    5.715695e-03  ...  3.412515e-02\n",
              "C(author_type)[T.associate editor]           6.766251e-12  ...           inf\n",
              "C(author_type)[T.associate features editor]  1.393901e+00  ...  2.086073e+01\n",
              "C(author_type)[T.associate reviews editor]   2.449561e+00  ...  1.637781e+01\n",
              "C(author_type)[T.associate staff writer]     3.057744e-01  ...  2.474615e+00\n",
              "C(author_type)[T.contributing editor]        7.058638e-01  ...  4.313555e+00\n",
              "C(author_type)[T.contributor]                5.433713e-01  ...  3.065535e+00\n",
              "C(author_type)[T.deputy news editor]         3.842164e-01  ...  3.319540e+00\n",
              "C(author_type)[T.editor-in-chief]            7.686940e-01  ...  5.256403e+00\n",
              "C(author_type)[T.executive editor]           1.771930e+00  ...  1.017043e+01\n",
              "C(author_type)[T.managing editor]            8.473799e+00  ...  1.635411e+02\n",
              "C(author_type)[T.news director]              2.214436e+00  ...  4.000777e+01\n",
              "C(author_type)[T.senior editor]              1.657186e+00  ...  9.531448e+00\n",
              "C(author_type)[T.senior staff writer]        7.760107e-01  ...  4.587852e+00\n",
              "C(author_type)[T.tracks coordinator]         7.877529e-01  ...  6.367525e+00\n",
              "count_words                                  2.865037e+04  ...  6.470139e+04\n",
              "polarity                                     3.900037e+00  ...  8.292661e+00\n",
              "\n",
              "[17 rows x 4 columns]"
            ]
          },
          "metadata": {},
          "execution_count": 121
        }
      ]
    },
    {
      "cell_type": "code",
      "metadata": {
        "colab": {
          "base_uri": "https://localhost:8080/",
          "height": 927
        },
        "id": "50WAvKTXs26a",
        "outputId": "e2b4ee66-bae9-4684-ec47-97a9892be3c5"
      },
      "source": [
        "# model 2 odds\n",
        "model_odds2= pd.DataFrame(np.exp(model2.params), columns= ['OR'])\n",
        "model_odds2['z-value']= model2.pvalues\n",
        "model_odds2[['2.5%', '7.5%']]= np.exp(model2.conf_int())\n",
        "\n",
        "model_odds2"
      ],
      "execution_count": 124,
      "outputs": [
        {
          "output_type": "stream",
          "name": "stderr",
          "text": [
            "/usr/local/lib/python3.7/dist-packages/ipykernel_launcher.py:4: RuntimeWarning: overflow encountered in exp\n",
            "  after removing the cwd from sys.path.\n"
          ]
        },
        {
          "output_type": "execute_result",
          "data": {
            "text/html": [
              "<div>\n",
              "<style scoped>\n",
              "    .dataframe tbody tr th:only-of-type {\n",
              "        vertical-align: middle;\n",
              "    }\n",
              "\n",
              "    .dataframe tbody tr th {\n",
              "        vertical-align: top;\n",
              "    }\n",
              "\n",
              "    .dataframe thead th {\n",
              "        text-align: right;\n",
              "    }\n",
              "</style>\n",
              "<table border=\"1\" class=\"dataframe\">\n",
              "  <thead>\n",
              "    <tr style=\"text-align: right;\">\n",
              "      <th></th>\n",
              "      <th>OR</th>\n",
              "      <th>z-value</th>\n",
              "      <th>2.5%</th>\n",
              "      <th>7.5%</th>\n",
              "    </tr>\n",
              "  </thead>\n",
              "  <tbody>\n",
              "    <tr>\n",
              "      <th>Intercept</th>\n",
              "      <td>3.935169e-03</td>\n",
              "      <td>3.427245e-08</td>\n",
              "      <td>0.000550</td>\n",
              "      <td>2.813243e-02</td>\n",
              "    </tr>\n",
              "    <tr>\n",
              "      <th>C(author_type)[T.associate editor]</th>\n",
              "      <td>1.278725e-08</td>\n",
              "      <td>9.974941e-01</td>\n",
              "      <td>0.000000</td>\n",
              "      <td>inf</td>\n",
              "    </tr>\n",
              "    <tr>\n",
              "      <th>C(author_type)[T.associate features editor]</th>\n",
              "      <td>1.472660e+00</td>\n",
              "      <td>7.789560e-01</td>\n",
              "      <td>0.098686</td>\n",
              "      <td>2.197594e+01</td>\n",
              "    </tr>\n",
              "    <tr>\n",
              "      <th>C(author_type)[T.associate reviews editor]</th>\n",
              "      <td>2.524426e+00</td>\n",
              "      <td>3.390314e-01</td>\n",
              "      <td>0.378207</td>\n",
              "      <td>1.684982e+01</td>\n",
              "    </tr>\n",
              "    <tr>\n",
              "      <th>C(author_type)[T.associate staff writer]</th>\n",
              "      <td>3.895575e-01</td>\n",
              "      <td>3.778704e-01</td>\n",
              "      <td>0.047926</td>\n",
              "      <td>3.166463e+00</td>\n",
              "    </tr>\n",
              "    <tr>\n",
              "      <th>C(author_type)[T.contributing editor]</th>\n",
              "      <td>6.821475e-01</td>\n",
              "      <td>6.795659e-01</td>\n",
              "      <td>0.111077</td>\n",
              "      <td>4.189208e+00</td>\n",
              "    </tr>\n",
              "    <tr>\n",
              "      <th>C(author_type)[T.contributor]</th>\n",
              "      <td>5.809167e-01</td>\n",
              "      <td>5.374999e-01</td>\n",
              "      <td>0.103350</td>\n",
              "      <td>3.265270e+00</td>\n",
              "    </tr>\n",
              "    <tr>\n",
              "      <th>C(author_type)[T.deputy news editor]</th>\n",
              "      <td>4.065756e-01</td>\n",
              "      <td>4.133754e-01</td>\n",
              "      <td>0.047053</td>\n",
              "      <td>3.513115e+00</td>\n",
              "    </tr>\n",
              "    <tr>\n",
              "      <th>C(author_type)[T.editor-in-chief]</th>\n",
              "      <td>7.957344e-01</td>\n",
              "      <td>8.155079e-01</td>\n",
              "      <td>0.116738</td>\n",
              "      <td>5.424067e+00</td>\n",
              "    </tr>\n",
              "    <tr>\n",
              "      <th>C(author_type)[T.executive editor]</th>\n",
              "      <td>1.817707e+00</td>\n",
              "      <td>5.022172e-01</td>\n",
              "      <td>0.317301</td>\n",
              "      <td>1.041302e+01</td>\n",
              "    </tr>\n",
              "    <tr>\n",
              "      <th>C(author_type)[T.managing editor]</th>\n",
              "      <td>8.099607e+00</td>\n",
              "      <td>1.660207e-01</td>\n",
              "      <td>0.419720</td>\n",
              "      <td>1.563032e+02</td>\n",
              "    </tr>\n",
              "    <tr>\n",
              "      <th>C(author_type)[T.news director]</th>\n",
              "      <td>2.345003e+00</td>\n",
              "      <td>5.636583e-01</td>\n",
              "      <td>0.129939</td>\n",
              "      <td>4.232010e+01</td>\n",
              "    </tr>\n",
              "    <tr>\n",
              "      <th>C(author_type)[T.senior editor]</th>\n",
              "      <td>1.859720e+00</td>\n",
              "      <td>4.864008e-01</td>\n",
              "      <td>0.324132</td>\n",
              "      <td>1.067023e+01</td>\n",
              "    </tr>\n",
              "    <tr>\n",
              "      <th>C(author_type)[T.senior staff writer]</th>\n",
              "      <td>8.048735e-01</td>\n",
              "      <td>8.103300e-01</td>\n",
              "      <td>0.136726</td>\n",
              "      <td>4.738091e+00</td>\n",
              "    </tr>\n",
              "    <tr>\n",
              "      <th>C(author_type)[T.tracks coordinator]</th>\n",
              "      <td>7.773291e-01</td>\n",
              "      <td>8.134461e-01</td>\n",
              "      <td>0.095944</td>\n",
              "      <td>6.297819e+00</td>\n",
              "    </tr>\n",
              "    <tr>\n",
              "      <th>C(experimental)[T.1]</th>\n",
              "      <td>1.702778e+00</td>\n",
              "      <td>2.396366e-01</td>\n",
              "      <td>0.701241</td>\n",
              "      <td>4.134742e+00</td>\n",
              "    </tr>\n",
              "    <tr>\n",
              "      <th>C(electronic)[T.1]</th>\n",
              "      <td>1.509302e+00</td>\n",
              "      <td>3.407622e-01</td>\n",
              "      <td>0.647097</td>\n",
              "      <td>3.520328e+00</td>\n",
              "    </tr>\n",
              "    <tr>\n",
              "      <th>C(pop)[T.1]</th>\n",
              "      <td>1.346321e+00</td>\n",
              "      <td>1.000000e+00</td>\n",
              "      <td>0.000000</td>\n",
              "      <td>inf</td>\n",
              "    </tr>\n",
              "    <tr>\n",
              "      <th>C(rap)[T.1]</th>\n",
              "      <td>9.942401e-01</td>\n",
              "      <td>9.895518e-01</td>\n",
              "      <td>0.418804</td>\n",
              "      <td>2.360327e+00</td>\n",
              "    </tr>\n",
              "    <tr>\n",
              "      <th>C(jazz)[T.1]</th>\n",
              "      <td>1.028718e+00</td>\n",
              "      <td>9.553928e-01</td>\n",
              "      <td>0.381452</td>\n",
              "      <td>2.774300e+00</td>\n",
              "    </tr>\n",
              "    <tr>\n",
              "      <th>C(country)[T.1]</th>\n",
              "      <td>1.103843e+00</td>\n",
              "      <td>1.000000e+00</td>\n",
              "      <td>0.000000</td>\n",
              "      <td>inf</td>\n",
              "    </tr>\n",
              "    <tr>\n",
              "      <th>C(metal)[T.1]</th>\n",
              "      <td>1.415176e+00</td>\n",
              "      <td>4.847173e-01</td>\n",
              "      <td>0.534299</td>\n",
              "      <td>3.748317e+00</td>\n",
              "    </tr>\n",
              "    <tr>\n",
              "      <th>C(rock)[T.1]</th>\n",
              "      <td>1.387792e+00</td>\n",
              "      <td>4.366306e-01</td>\n",
              "      <td>0.607754</td>\n",
              "      <td>3.168990e+00</td>\n",
              "    </tr>\n",
              "    <tr>\n",
              "      <th>C(folk)[T.1]</th>\n",
              "      <td>1.103843e+00</td>\n",
              "      <td>1.000000e+00</td>\n",
              "      <td>0.000000</td>\n",
              "      <td>inf</td>\n",
              "    </tr>\n",
              "    <tr>\n",
              "      <th>C(rnb)[T.1]</th>\n",
              "      <td>1.346321e+00</td>\n",
              "      <td>1.000000e+00</td>\n",
              "      <td>0.000000</td>\n",
              "      <td>inf</td>\n",
              "    </tr>\n",
              "    <tr>\n",
              "      <th>count_words</th>\n",
              "      <td>3.208427e+04</td>\n",
              "      <td>5.134209e-134</td>\n",
              "      <td>14053.771572</td>\n",
              "      <td>7.324726e+04</td>\n",
              "    </tr>\n",
              "    <tr>\n",
              "      <th>polarity</th>\n",
              "      <td>3.621175e+00</td>\n",
              "      <td>8.968669e-04</td>\n",
              "      <td>1.694472</td>\n",
              "      <td>7.738640e+00</td>\n",
              "    </tr>\n",
              "  </tbody>\n",
              "</table>\n",
              "</div>"
            ],
            "text/plain": [
              "                                                       OR  ...          7.5%\n",
              "Intercept                                    3.935169e-03  ...  2.813243e-02\n",
              "C(author_type)[T.associate editor]           1.278725e-08  ...           inf\n",
              "C(author_type)[T.associate features editor]  1.472660e+00  ...  2.197594e+01\n",
              "C(author_type)[T.associate reviews editor]   2.524426e+00  ...  1.684982e+01\n",
              "C(author_type)[T.associate staff writer]     3.895575e-01  ...  3.166463e+00\n",
              "C(author_type)[T.contributing editor]        6.821475e-01  ...  4.189208e+00\n",
              "C(author_type)[T.contributor]                5.809167e-01  ...  3.265270e+00\n",
              "C(author_type)[T.deputy news editor]         4.065756e-01  ...  3.513115e+00\n",
              "C(author_type)[T.editor-in-chief]            7.957344e-01  ...  5.424067e+00\n",
              "C(author_type)[T.executive editor]           1.817707e+00  ...  1.041302e+01\n",
              "C(author_type)[T.managing editor]            8.099607e+00  ...  1.563032e+02\n",
              "C(author_type)[T.news director]              2.345003e+00  ...  4.232010e+01\n",
              "C(author_type)[T.senior editor]              1.859720e+00  ...  1.067023e+01\n",
              "C(author_type)[T.senior staff writer]        8.048735e-01  ...  4.738091e+00\n",
              "C(author_type)[T.tracks coordinator]         7.773291e-01  ...  6.297819e+00\n",
              "C(experimental)[T.1]                         1.702778e+00  ...  4.134742e+00\n",
              "C(electronic)[T.1]                           1.509302e+00  ...  3.520328e+00\n",
              "C(pop)[T.1]                                  1.346321e+00  ...           inf\n",
              "C(rap)[T.1]                                  9.942401e-01  ...  2.360327e+00\n",
              "C(jazz)[T.1]                                 1.028718e+00  ...  2.774300e+00\n",
              "C(country)[T.1]                              1.103843e+00  ...           inf\n",
              "C(metal)[T.1]                                1.415176e+00  ...  3.748317e+00\n",
              "C(rock)[T.1]                                 1.387792e+00  ...  3.168990e+00\n",
              "C(folk)[T.1]                                 1.103843e+00  ...           inf\n",
              "C(rnb)[T.1]                                  1.346321e+00  ...           inf\n",
              "count_words                                  3.208427e+04  ...  7.324726e+04\n",
              "polarity                                     3.621175e+00  ...  7.738640e+00\n",
              "\n",
              "[27 rows x 4 columns]"
            ]
          },
          "metadata": {},
          "execution_count": 124
        }
      ]
    },
    {
      "cell_type": "markdown",
      "metadata": {
        "id": "orR1Qo3sfUH5"
      },
      "source": [
        "##### d) What features are most/least predictive of a best new music designation and why do you think that is?"
      ]
    },
    {
      "cell_type": "markdown",
      "metadata": {
        "id": "F8uMVWctvyHT"
      },
      "source": [
        "> Based on the p-value in model summary, only polarity and count_words are statistically significant indicators of best_new_music variable. The coefficients for both indicate that they have a positive effect in determining if the title will be tagged as best_new_music or not.\n",
        "\n",
        "> The other variables are not statistically significant.\n",
        "\n",
        "> The Odds Ratio tells us that,\n",
        "\n",
        ">> Odds ratio greater than 1 signifies that event is more likely to occur in the case the value for that column increases. Similarly, an odds ratio of less than 1 means an event is less likely to occur as the value in the column decreases.\n",
        "\n",
        ">> Based on this, both polarity and count words, and all genres except rap have an odds ratio of greater than 1, and will likely increase the chances of a new album being tagged as best_new_music. Electronic and Rap are more favored than the other genres, as can be seen in the industry these days and most albums being released that get famous are from these genres. Also, rap has been dying lately, as is also apparent from the results. Our dataset is skewed towards the latest years, and this result should be expected.\n"
      ]
    },
    {
      "cell_type": "markdown",
      "metadata": {
        "id": "zskIAzCnfae9"
      },
      "source": [
        "##### e) If you were to engineer an additional feature for the regression, what would it be? Describe how would you approach constructing that feature."
      ]
    },
    {
      "cell_type": "code",
      "metadata": {
        "id": "aeWYDAxVfmc4",
        "colab": {
          "base_uri": "https://localhost:8080/",
          "height": 359
        },
        "outputId": "de35635f-9f49-4209-80e3-055a213a2b8e"
      },
      "source": [
        "import seaborn as sns\n",
        "\n",
        "sns.heatmap(final.corr())"
      ],
      "execution_count": 128,
      "outputs": [
        {
          "output_type": "execute_result",
          "data": {
            "text/plain": [
              "<matplotlib.axes._subplots.AxesSubplot at 0x7f9476b5a810>"
            ]
          },
          "metadata": {},
          "execution_count": 128
        },
        {
          "output_type": "display_data",
          "data": {
            "image/png": "[encoded data removed]",
            "text/plain": [
              "<Figure size 432x288 with 2 Axes>"
            ]
          },
          "metadata": {
            "needs_background": "light"
          }
        }
      ]
    },
    {
      "cell_type": "markdown",
      "metadata": {
        "id": "BhY3w1aU0ufL"
      },
      "source": [
        "> Created a heatmap to check if polarity and count_words are highly co-related, then they can be multiplied with each other to get a new column, but that does not seem to be the case."
      ]
    },
    {
      "cell_type": "code",
      "metadata": {
        "colab": {
          "base_uri": "https://localhost:8080/"
        },
        "id": "_cKt1r7I06Ur",
        "outputId": "b753387a-57b2-4d17-c642-afffac39391e"
      },
      "source": [
        "# our data mostly has categorical variables\n",
        "# to check if the two variables are similar, and can be multiplied\n",
        "# or only one of them can be used\n",
        "\n",
        "from scipy.stats import chi2_contingency\n",
        "from scipy.stats import chi2\n",
        "table= pd.crosstab(final['author'],\n",
        "                   final['author_type'],\n",
        "                   margins= True, margins_name=\"Total\")\n",
        "stat, p, dof, expected= chi2_contingency(table)\n",
        "print('dof=%d' %dof)\n",
        "print(expected)\n",
        "\n",
        "# interpret p-value\n",
        "alpha= 0.05\n",
        "print('significance= %.3f, p=%.3f' % (alpha,p))\n",
        "if p<= alpha:\n",
        "  print('Dependent (reject H0)')\n",
        "else:\n",
        "  print('Independent (fail to reject H0)')"
      ],
      "execution_count": 130,
      "outputs": [
        {
          "output_type": "stream",
          "name": "stdout",
          "text": [
            "dof=3690\n",
            "[[1.07530364e-01 2.28502024e-01 6.72064777e-02 ... 2.70842105e+00\n",
            "  3.22591093e-01 8.30000000e+01]\n",
            " [3.88663968e-03 8.25910931e-03 2.42914980e-03 ... 9.78947368e-02\n",
            "  1.16599190e-02 3.00000000e+00]\n",
            " [1.29554656e-03 2.75303644e-03 8.09716599e-04 ... 3.26315789e-02\n",
            "  3.88663968e-03 1.00000000e+00]\n",
            " ...\n",
            " [1.74898785e-01 3.71659919e-01 1.09311741e-01 ... 4.40526316e+00\n",
            "  5.24696356e-01 1.35000000e+02]\n",
            " [8.16194332e-02 1.73441296e-01 5.10121457e-02 ... 2.05578947e+00\n",
            "  2.44858300e-01 6.30000000e+01]\n",
            " [1.60000000e+01 3.40000000e+01 1.00000000e+01 ... 4.03000000e+02\n",
            "  4.80000000e+01 1.23500000e+04]]\n",
            "significance= 0.050, p=0.000\n",
            "Dependent (reject H0)\n"
          ]
        }
      ]
    },
    {
      "cell_type": "markdown",
      "metadata": {
        "id": "wrleOuGB4ys8"
      },
      "source": [
        "> Since, the 2 variables are dependent, we can either use one of them, or multiply the two and use them together. This is so because both columns contain essentially the same information.\n",
        "\n",
        "> If they were not dependent, we would at least have to start by using both the variables, and then decide based on model results if either or both of the variables should be used or not based on model results.\n",
        "\n",
        "> Another way to look at feature engineering can be to utilize our expert knowledge about the domain and industry to come up with new features. This will be more likely to happen in real-world business scenarios."
      ]
    },
    {
      "cell_type": "markdown",
      "metadata": {
        "id": "UeIwx2WGjtYU"
      },
      "source": [
        "## Data Visualization"
      ]
    },
    {
      "cell_type": "markdown",
      "metadata": {
        "id": "VCxumIrajyVF"
      },
      "source": [
        "##### Using the results from your regression and data analysis create a visualization that tells a story about the data. Feel free to take personal liberties with this and be as creative as you like."
      ]
    },
    {
      "cell_type": "code",
      "metadata": {
        "colab": {
          "base_uri": "https://localhost:8080/",
          "height": 1000
        },
        "id": "77ic4FtrjtAr",
        "outputId": "70dca24e-3b18-4dc4-b3f1-f5c19f34e8c6"
      },
      "source": [
        "import seaborn as sns\n",
        "\n",
        "## Plotting multiple plots same figure\n",
        "fig, (axL, axR) = plt.subplots(2, figsize=(15, 15))\n",
        "plt.suptitle(\"Logistic Regression Residual Plots \\n using Seaborn Lowess line (N = 400)\")\n",
        "\n",
        "\n",
        "# Deviance Residuals\n",
        "sns.regplot(model.fittedvalues, model.resid_dev, ax= axL,\n",
        "            color=\"black\", scatter_kws={\"s\": 5},\n",
        "            line_kws={\"color\":\"b\", \"alpha\":1, \"lw\":2}, lowess=True)\n",
        "\n",
        "axL.set_title(\"Deviance Residuals \\n against Fitted Values\")\n",
        "axL.set_xlabel(\"Linear Predictor Values\")\n",
        "axL.set_ylabel(\"Deviance Residuals\")\n",
        "\n",
        "# Studentized Pearson Residuals\n",
        "sns.regplot(model.fittedvalues, model.resid_pearson, ax= axR,\n",
        "            color=\"black\", scatter_kws={\"s\": 5},\n",
        "            line_kws={\"color\":\"g\", \"alpha\":1, \"lw\":2}, lowess=True)\n",
        "\n",
        "axR.set_title(\"Studentized Pearson Residuals \\n against Fitted Values\")\n",
        "axR.set_xlabel(\"Linear Predictor Values\")\n",
        "axR.set_ylabel(\"Studentized Pearson Residuals\")\n",
        "\n",
        "plt.show()"
      ],
      "execution_count": 122,
      "outputs": [
        {
          "output_type": "stream",
          "name": "stderr",
          "text": [
            "/usr/local/lib/python3.7/dist-packages/seaborn/_decorators.py:43: FutureWarning: Pass the following variables as keyword args: x, y. From version 0.12, the only valid positional argument will be `data`, and passing other arguments without an explicit keyword will result in an error or misinterpretation.\n",
            "  FutureWarning\n",
            "/usr/local/lib/python3.7/dist-packages/seaborn/_decorators.py:43: FutureWarning: Pass the following variables as keyword args: x, y. From version 0.12, the only valid positional argument will be `data`, and passing other arguments without an explicit keyword will result in an error or misinterpretation.\n",
            "  FutureWarning\n"
          ]
        },
        {
          "output_type": "display_data",
          "data": {
            "image/png": "[encoded data removed]",
            "text/plain": [
              "<Figure size 1080x1080 with 2 Axes>"
            ]
          },
          "metadata": {
            "needs_background": "light"
          }
        }
      ]
    }
  ]
}